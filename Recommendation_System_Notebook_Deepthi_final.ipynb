{
  "cells": [
    {
      "cell_type": "markdown",
      "id": "fa4396bb",
      "metadata": {
        "id": "fa4396bb"
      },
      "source": [
        "# eBuss Sentiment-Based Product Recommendation System Capstone Project Notebook\n",
        "This notebook consists of following sections that implement the full pipeline end-to-end:\n",
        "\n",
        "1. Imports & Setup\n",
        "2. Load Data & Auto-Detect Columns\n",
        "3. Exploratory Data Analysis & Preprocessing\n",
        "4. Text Cleaning\n",
        "5. Data Augmentation: Back-Translation\n",
        "6. Feature Extraction & Train/Test Split\n",
        "7. Model Building & Hyperparameter Tuning\n",
        "8. Recommendation Systems: UBCF & IBCF\n",
        "9. Top‑20 & Top‑5 with Sentiment Re‑ranking\n",
        "10. Flask App Demonstration\n",
        "11. Deployment Link"
      ]
    },
    {
      "cell_type": "code",
      "execution_count": 1,
      "id": "iuT0YxFcnhB6",
      "metadata": {
        "colab": {
          "base_uri": "https://localhost:8080/"
        },
        "id": "iuT0YxFcnhB6",
        "outputId": "18720bcd-6dd4-44c7-d260-488dd84228fd"
      },
      "outputs": [
        {
          "output_type": "stream",
          "name": "stdout",
          "text": [
            "Mounted at /content/drive\n"
          ]
        }
      ],
      "source": [
        "from google.colab import drive\n",
        "drive.mount('/content/drive')"
      ]
    },
    {
      "cell_type": "markdown",
      "id": "a1e644de",
      "metadata": {
        "id": "a1e644de"
      },
      "source": [
        "## 1. Imports & Setup"
      ]
    },
    {
      "cell_type": "markdown",
      "id": "hOVbQQ-Hrb-v",
      "metadata": {
        "id": "hOVbQQ-Hrb-v"
      },
      "source": [
        "We start by importing all the libraries and helper functions we’ll need—pandas & NumPy for data handling, matplotlib/seaborn for plots, NLTK for text cleaning, and scikit‑learn (plus XGBoost/implicit) for modeling. This ensures the rest of the notebook can run without missing dependencies."
      ]
    },
    {
      "cell_type": "code",
      "execution_count": 2,
      "id": "ejWJAlU9o5mO",
      "metadata": {
        "id": "ejWJAlU9o5mO",
        "colab": {
          "base_uri": "https://localhost:8080/"
        },
        "outputId": "568ec041-bea5-4479-de31-b1f2acf065af"
      },
      "outputs": [
        {
          "output_type": "stream",
          "name": "stdout",
          "text": [
            "\u001b[2K   \u001b[90m━━━━━━━━━━━━━━━━━━━━━━━━━━━━━━━━━━━━━━━━\u001b[0m \u001b[32m253.9/253.9 MB\u001b[0m \u001b[31m4.2 MB/s\u001b[0m eta \u001b[36m0:00:00\u001b[0m\n",
            "\u001b[2K   \u001b[90m━━━━━━━━━━━━━━━━━━━━━━━━━━━━━━━━━━━━━━━━\u001b[0m \u001b[32m238.4/238.4 kB\u001b[0m \u001b[31m4.4 MB/s\u001b[0m eta \u001b[36m0:00:00\u001b[0m\n",
            "\u001b[2K   \u001b[90m━━━━━━━━━━━━━━━━━━━━━━━━━━━━━━━━━━━━━━━━\u001b[0m \u001b[32m103.3/103.3 kB\u001b[0m \u001b[31m7.5 MB/s\u001b[0m eta \u001b[36m0:00:00\u001b[0m\n",
            "\u001b[2K   \u001b[90m━━━━━━━━━━━━━━━━━━━━━━━━━━━━━━━━━━━━━━━━\u001b[0m \u001b[32m470.2/470.2 kB\u001b[0m \u001b[31m29.2 MB/s\u001b[0m eta \u001b[36m0:00:00\u001b[0m\n",
            "\u001b[2K   \u001b[90m━━━━━━━━━━━━━━━━━━━━━━━━━━━━━━━━━━━━━━━━\u001b[0m \u001b[32m224.5/224.5 kB\u001b[0m \u001b[31m3.8 MB/s\u001b[0m eta \u001b[36m0:00:00\u001b[0m\n",
            "\u001b[?25h"
          ]
        }
      ],
      "source": [
        "\n",
        "# Install / upgrade all needed packages and ignore the pre‑installed blinker\n",
        "!pip install --quiet \\\n",
        "    xgboost \\\n",
        "    imbalanced-learn \\\n",
        "    flask \\\n",
        "    sentence-transformers \\\n",
        "    transformers \\\n",
        "    --no-deps\n",
        "\n",
        "\n",
        "!pip install --quiet \\\n",
        "    flask \\\n",
        "    Werkzeug \\\n",
        "    itsdangerous \\\n",
        "    Jinja2 \\\n",
        "    click \\\n",
        "    --no-deps"
      ]
    },
    {
      "cell_type": "code",
      "execution_count": 3,
      "id": "0974e460",
      "metadata": {
        "colab": {
          "base_uri": "https://localhost:8080/"
        },
        "id": "0974e460",
        "outputId": "3b79b07c-e040-4f68-e8f0-8fc2d680c780"
      },
      "outputs": [
        {
          "output_type": "stream",
          "name": "stderr",
          "text": [
            "[nltk_data] Downloading package stopwords to /root/nltk_data...\n",
            "[nltk_data]   Unzipping corpora/stopwords.zip.\n",
            "[nltk_data] Downloading package wordnet to /root/nltk_data...\n"
          ]
        }
      ],
      "source": [
        "# Core libraries\n",
        "import pandas as pd\n",
        "import numpy as np\n",
        "import os, re\n",
        "import nltk\n",
        "from nltk.corpus import stopwords\n",
        "from nltk.corpus import wordnet\n",
        "from nltk.stem import WordNetLemmatizer\n",
        "from sklearn.feature_extraction.text import TfidfVectorizer\n",
        "from sklearn.model_selection import train_test_split, GridSearchCV\n",
        "from sklearn.linear_model import LogisticRegression\n",
        "from sklearn.ensemble import RandomForestClassifier\n",
        "from xgboost import XGBClassifier\n",
        "from sklearn.naive_bayes import MultinomialNB\n",
        "from sklearn.metrics import accuracy_score, classification_report, mean_squared_error, confusion_matrix\n",
        "from sklearn.model_selection import KFold, cross_val_score\n",
        "from sklearn.metrics import make_scorer, f1_score, accuracy_score\n",
        "from sklearn.pipeline import Pipeline\n",
        "from imblearn.over_sampling import RandomOverSampler\n",
        "from sentence_transformers import SentenceTransformer\n",
        "from transformers import MarianMTModel, MarianTokenizer\n",
        "from transformers import T5ForConditionalGeneration, T5Tokenizer\n",
        "from transformers import AutoTokenizer, AutoModelForSeq2SeqLM\n",
        "import torch\n",
        "import random\n",
        "import pickle\n",
        "# Recommendation\n",
        "from sklearn.metrics.pairwise import cosine_similarity\n",
        "from sklearn.metrics.pairwise import pairwise_distances\n",
        "# Deployment\n",
        "from flask import Flask, request, render_template\n",
        "from functools import lru_cache\n",
        "from math import sqrt\n",
        "import matplotlib.pyplot as plt\n",
        "import seaborn as sns\n",
        "from collections import Counter\n",
        "\n",
        "# NLTK downloads\n",
        "nltk.download('stopwords'); nltk.download('wordnet')\n",
        "\n",
        "# Constants\n",
        "RANDOM_STATE = 42\n",
        "DATA_PATH    = '/content/drive/MyDrive/EPGP in ML and AI/sample30.csv'\n",
        "AUG_PATH     = '/content/drive/MyDrive/EPGP in ML and AI/augment_data.csv'\n",
        "OUTPUT_DIR   = '/content/drive/MyDrive/EPGP in ML and AI/OUTPUT'\n",
        "os.makedirs(OUTPUT_DIR, exist_ok=True)\n",
        "os.makedirs('pickles', exist_ok=True)"
      ]
    },
    {
      "cell_type": "markdown",
      "id": "3a6c1d30",
      "metadata": {
        "id": "3a6c1d30"
      },
      "source": [
        "## 2. Load Data & Auto‑detect Columns"
      ]
    },
    {
      "cell_type": "markdown",
      "id": "zViQtCxPrhnL",
      "metadata": {
        "id": "zViQtCxPrhnL"
      },
      "source": [
        "Here we load our raw review dataset into a DataFrame and take a quick look at its shape and column names. This helps us confirm that we have the right file path, and understand the fields (text, ratings, user IDs, etc.) we’ll be working with."
      ]
    },
    {
      "cell_type": "code",
      "execution_count": 4,
      "id": "85cb8b25",
      "metadata": {
        "colab": {
          "base_uri": "https://localhost:8080/"
        },
        "id": "85cb8b25",
        "outputId": "a71f9fa6-f112-487a-a5be-ca2ca9c99a65"
      },
      "outputs": [
        {
          "output_type": "stream",
          "name": "stdout",
          "text": [
            "Using Columns -> rating: reviews_rating, username: reviews_username, product: name, review_text: reviews_text\n"
          ]
        }
      ],
      "source": [
        "df = pd.read_csv(DATA_PATH)\n",
        "\n",
        "# Drop rows with missing user or review text\n",
        "user_guess = [c for c in df.columns if 'username' in c.lower() or 'username' in c.lower()]\n",
        "text_guess = [c for c in df.columns if 'review' in c.lower() and 'text' in c.lower()]\n",
        "if not user_guess or not text_guess:\n",
        "    raise KeyError(\"Cannot find user or review_text columns automatically.\")\n",
        "df = df.dropna(subset=[user_guess[0], text_guess[0]])\n",
        "\n",
        "# Auto-detect remaining columns\n",
        "col_map = {'rating':None, 'username':None, 'product':None, 'review_text':None}\n",
        "for c in df.columns:\n",
        "    lc = c.lower()\n",
        "    if col_map['rating']    is None and 'rating' in lc: col_map['rating'] = c\n",
        "    if col_map['username']      is None and 'username'   in lc: col_map['username']   = c\n",
        "    if col_map['product']   is None and any(k in lc for k in ('product','item','asin','name')): col_map['product'] = c\n",
        "    if col_map['review_text'] is None and 'reviews' in lc and 'text' in lc: col_map['review_text'] = c\n",
        "\n",
        "rating_col, user_col, product_col, text_col = (\n",
        "    col_map['rating'], col_map['username'], col_map['product'], col_map['review_text']\n",
        ")\n",
        "user_col = \"reviews_username\"\n",
        "print(f\"Using Columns -> rating: {rating_col}, username: {user_col}, product: {product_col}, review_text: {text_col}\")\n",
        "\n"
      ]
    },
    {
      "cell_type": "markdown",
      "id": "9e8c5c1a",
      "metadata": {
        "id": "9e8c5c1a"
      },
      "source": [
        "## 3. Exploratory Data Analysis & Sentiment Labeling\n",
        "\n",
        "In this step we remove any rows missing review text, drop duplicates, and inspect the rating distribution. Cleaning up missing/duplicate data up front prevents downstream errors and bias.\n",
        "\n",
        "Let’s explore basic patterns: how long reviews tend to be (in words and characters), and how sentiment (positive vs. negative) is distributed. We explore the distribution of ratings to understand the balance of classes. This helps in understanding if the data is skewed towards certain rating values. These plots help us gauge whether our dataset is balanced and whether review length correlates with rating.\n",
        "\n"
      ]
    },
    {
      "cell_type": "code",
      "execution_count": 5,
      "id": "0e5700d9",
      "metadata": {
        "colab": {
          "base_uri": "https://localhost:8080/",
          "height": 1000
        },
        "id": "0e5700d9",
        "outputId": "21e0a4d2-5a53-4d6a-b860-5b55c5b7d782"
      },
      "outputs": [
        {
          "output_type": "stream",
          "name": "stdout",
          "text": [
            "Initial shape: (29937, 15)\n",
            "Missing reviews: 0\n",
            "After drop shape: (29937, 15)\n",
            "Duplicate rows: 0\n",
            "After dedup shape: (29937, 15)\n",
            "Rating distribution:\n",
            "reviews_rating\n",
            "5    20792\n",
            "4     6010\n",
            "1     1373\n",
            "3     1344\n",
            "2      418\n",
            "Name: count, dtype: int64\n"
          ]
        },
        {
          "output_type": "display_data",
          "data": {
            "text/plain": [
              "<Figure size 1400x400 with 2 Axes>"
            ],
            "image/png": "[encoded data removed]"
          },
          "metadata": {}
        },
        {
          "output_type": "stream",
          "name": "stdout",
          "text": [
            "Sentiment counts:\n",
            " sentiment\n",
            "positive    26802\n",
            "negative     3135\n",
            "Name: count, dtype: int64\n"
          ]
        },
        {
          "output_type": "display_data",
          "data": {
            "text/plain": [
              "<Figure size 600x400 with 1 Axes>"
            ],
            "image/png": "[encoded data removed]"
          },
          "metadata": {}
        },
        {
          "output_type": "display_data",
          "data": {
            "text/plain": [
              "<Figure size 800x500 with 1 Axes>"
            ],
            "image/png": "[encoded data removed]"
          },
          "metadata": {}
        },
        {
          "output_type": "display_data",
          "data": {
            "text/plain": [
              "<Figure size 1000x600 with 1 Axes>"
            ],
            "image/png": "[encoded data removed]"
          },
          "metadata": {}
        }
      ],
      "source": [
        "# 1) Dropping NaNs and duplicates\n",
        "print('Initial shape:', df.shape)\n",
        "print('Missing reviews:', df[text_col].isna().sum())\n",
        "df = df.dropna(subset=[text_col]).copy()\n",
        "print('After drop shape:', df.shape)\n",
        "\n",
        "print('Duplicate rows:', df.duplicated().sum())\n",
        "df = df.drop_duplicates().copy()\n",
        "print('After dedup shape:', df.shape)\n",
        "\n",
        "# 2) Rating distribution\n",
        "print('Rating distribution:')\n",
        "print(df[rating_col].value_counts())\n",
        "\n",
        "# 3) Compute review lengths\n",
        "# characters\n",
        "df['review_length_chars'] = df[text_col].str.len()\n",
        "# words — slightly faster as .str.split().str.len()\n",
        "df['review_length_words'] = df[text_col].str.split().str.len()\n",
        "\n",
        "# 4) Plot Histogram of lengths\n",
        "fig, axes = plt.subplots(1, 2, figsize=(14, 4))\n",
        "axes[0].hist(df['review_length_chars'], bins=50)\n",
        "axes[0].set_title('Review Length (Characters)')\n",
        "axes[0].set_xlabel('Chars')\n",
        "axes[0].set_ylabel('Count')\n",
        "\n",
        "axes[1].hist(df['review_length_words'], bins=50)\n",
        "axes[1].set_title('Review Length (Words)')\n",
        "axes[1].set_xlabel('Words')\n",
        "axes[1].set_ylabel('Count')\n",
        "\n",
        "plt.tight_layout()\n",
        "plt.show()\n",
        "\n",
        "# 5) Create a binary sentiment label\n",
        "# To prepare the dataset for binary sentiment classification, we derive a new sentiment label based on the numeric product ratings. We assume:\n",
        "# --> Ratings 4 or 5 reflect positive sentiment.\n",
        "# --> Ratings 1 to 3 reflect negative sentiment.\n",
        "# This is a common thresholding approach used in sentiment analysis. It ensures a clear distinction between happy and unhappy customer experiences.\n",
        "\n",
        "df['sentiment'] = df[rating_col].apply(lambda x: 'positive' if x >= 4 else 'negative')\n",
        "print('Sentiment counts:\\n', df['sentiment'].value_counts())\n",
        "\n",
        "\n",
        "# 6) Sentiment class balance Bar Chart\n",
        "# We visualize the class balance between positive and negative reviews. It is crucial to check for imbalance to decide if techniques like SMOTE\n",
        "# or class weighting are needed.\n",
        "plt.figure(figsize=(6,4))\n",
        "sns.countplot(data=df, x='sentiment', order=sorted(df['sentiment'].unique()))\n",
        "plt.title('Sentiment Class Balance')\n",
        "plt.xlabel('Sentiment')\n",
        "plt.ylabel('Count')\n",
        "plt.show()\n",
        "\n",
        "# 7) Review length by sentiment\n",
        "# We compare review lengths across sentiment classes using boxplots. This provides insight into whether review length varies by sentiment.\n",
        "plt.figure(figsize=(8,5))\n",
        "sns.boxplot(data=df, x='sentiment', y='review_length_words', order=sorted(df['sentiment'].unique()))\n",
        "plt.title('Review Word Count by Sentiment')\n",
        "plt.xlabel('Sentiment')\n",
        "plt.ylabel('Word Count')\n",
        "plt.show()\n",
        "\n",
        "# 8) Top 20 words\n",
        "# We identify the top 20 most frequently used words (excluding stopwords) in the review texts.\n",
        "# This gives a quick lexical insight into commonly discussed topics or emotions in the dataset.\n",
        "stop = set(stopwords.words('english'))\n",
        "all_text = \" \".join(df['reviews_text'].str.lower())\n",
        "words = [w for w in all_text.split() if w.isalpha() and w not in stop]\n",
        "\n",
        "top20 = Counter(words).most_common(20)\n",
        "wc_df = pd.DataFrame(top20, columns=['word','count'])\n",
        "\n",
        "plt.figure(figsize=(10,6))\n",
        "sns.barplot(data=wc_df, x='count', y='word')\n",
        "plt.title('Top 20 Most Frequent Words')\n",
        "plt.xlabel('Count')\n",
        "plt.ylabel('Word')\n",
        "plt.show()\n",
        "\n"
      ]
    },
    {
      "cell_type": "markdown",
      "id": "b4d3d48f",
      "metadata": {
        "id": "b4d3d48f"
      },
      "source": [
        "## 4. Text Cleaning\n",
        "\n",
        "We define a clean_text() helper to lowercase, remove HTML tags, strip punctuation & non‑alphanumeric characters, remove stopwords and perform lemmatization. Encapsulating this logic makes it easy to apply the same cleaning both in training and in production.\n",
        "\n"
      ]
    },
    {
      "cell_type": "code",
      "execution_count": 6,
      "id": "267c1ce1",
      "metadata": {
        "colab": {
          "base_uri": "https://localhost:8080/"
        },
        "id": "267c1ce1",
        "outputId": "f9b3253f-805f-4a59-b21f-668e940688a4"
      },
      "outputs": [
        {
          "output_type": "stream",
          "name": "stdout",
          "text": [
            "                                               clean\n",
            "0  love album good hip hop side current pop sound...\n",
            "1        good flavor review collected part promotion\n",
            "2                                        good flavor\n",
            "3  read review looking buying one couple lubrican...\n",
            "4  husband bought gel u gel caused irritation fel...\n"
          ]
        }
      ],
      "source": [
        "stop_words = set(stopwords.words('english'))\n",
        "lemm = WordNetLemmatizer()\n",
        "\n",
        "def clean_text(s):\n",
        "    s = str(s).lower()\n",
        "    s = re.sub(r'<[^>]+>', ' ', s)            # remove HTML tags\n",
        "    s = re.sub(r'[^a-z0-9\\s]', ' ', s)        # remove punctuation\n",
        "    toks = [w for w in s.split() if w not in stop_words]\n",
        "    return ' '.join(lemm.lemmatize(w) for w in toks)\n",
        "\n",
        "df['clean'] = df[text_col].apply(clean_text)\n",
        "print(df[['clean']].head())\n"
      ]
    },
    {
      "cell_type": "markdown",
      "id": "71bb5ce7",
      "metadata": {
        "id": "71bb5ce7"
      },
      "source": [
        "## 5. Data Augmentation: Enriching Negative Sentiment Samples Using Synonym Replacement"
      ]
    },
    {
      "cell_type": "markdown",
      "id": "rGaQG_uiT5g-",
      "metadata": {
        "id": "rGaQG_uiT5g-"
      },
      "source": [
        "To improve sentiment classifier performance—especially if the dataset is imbalanced—we generate synthetic negative examples using a simple yet effective technique: Synonym Replacement.\n",
        "\n",
        "1. Filter Original Dataset for Negative Sentiment\n",
        "\n",
        "We extract only the rows labeled as negative sentiment from the original dataset.\n",
        "\n",
        "This subset (neg_df) will be the basis for generating augmented data to help balance the training set.\n",
        "\n",
        "2. Define a Synonym Replacement Function Using WordNet\n",
        "\n",
        "This function takes a sentence (sent) and replaces up to n_sr words with random synonyms using WordNet (from the NLTK library).\n",
        "\n",
        "The goal is to generate a new sentence with the same semantic meaning but different wording, helping the model generalize better.\n",
        "\n",
        "3. Generate Augmented Texts\n",
        "\n",
        "The synonym replacement is applied to each cleaned negative sentence.\n",
        "\n",
        "We use a loop to generate an augmented list of negative samples with modified wording.\n",
        "\n",
        "4. Construct a DataFrame for Augmented Negatives\n",
        "\n",
        "We create a new DataFrame (augment_data) with the augmented sentences labeled as negative.\n",
        "\n",
        "This is saved to a CSV file so the augmentation process can be tracked and reproduced as per rubric requirements.\n",
        "\n",
        "5. Merge Original and Augmented Sentiment Data\n",
        "\n",
        "Finally, we concatenate the original cleaned dataset with the augmented negatives.\n",
        "\n",
        "This creates a richer and more balanced training set, improving classifier robustness—especially against underrepresented negative classes.\n",
        "\n",
        "Why This Matters:\n",
        "\n",
        "Data augmentation reduces class imbalance, improves generalization, and boosts performance on real-world, noisy text inputs—all of which are key for building a reliable sentiment analysis model."
      ]
    },
    {
      "cell_type": "code",
      "execution_count": 7,
      "id": "7f80aefd",
      "metadata": {
        "colab": {
          "base_uri": "https://localhost:8080/"
        },
        "id": "7f80aefd",
        "outputId": "80063041-4832-4480-b02d-1d6e15d921fe"
      },
      "outputs": [
        {
          "output_type": "stream",
          "name": "stdout",
          "text": [
            "Augmented negatives saved to: /content/drive/MyDrive/EPGP in ML and AI/augment_data.csv Number of Rows: 3135\n"
          ]
        }
      ],
      "source": [
        "neg_df = df[df['sentiment']=='negative'].copy()\n",
        "\n",
        "def synonym_replacement(sent, n_sr=2):\n",
        "    words = sent.split()\n",
        "    if len(words) == 0:\n",
        "        return sent\n",
        "    new = words.copy()\n",
        "    idxs = list(range(len(words)))\n",
        "    random.shuffle(idxs)\n",
        "    rep = 0\n",
        "    for i in idxs:\n",
        "        syns = set(l.name().replace('_',' ') for syn in wordnet.synsets(words[i]) for l in syn.lemmas())\n",
        "        syns.discard(words[i])\n",
        "        if syns:\n",
        "            new[i] = random.choice(list(syns))\n",
        "            rep += 1\n",
        "        if rep >= n_sr:\n",
        "            break\n",
        "    return ' '.join(new)\n",
        "\n",
        "aug_texts = []\n",
        "for s in neg_df['clean'].tolist():\n",
        "    aug_texts.append(synonym_replacement(s, n_sr=2))\n",
        "\n",
        "augment_data = pd.DataFrame({'clean': aug_texts, 'sentiment': 'negative'})\n",
        "# Save augmented data for rubric\n",
        "augment_data.to_csv(AUG_PATH, index=False)\n",
        "print('Augmented negatives saved to:', AUG_PATH, 'Number of Rows:', len(augment_data))\n",
        "\n",
        "# Combine original + augmented for training sentiment\n",
        "train_sent_df = pd.concat([df[['clean','sentiment']], augment_data], ignore_index=True)"
      ]
    },
    {
      "cell_type": "markdown",
      "id": "yPn1e8kXxbed",
      "metadata": {
        "id": "yPn1e8kXxbed"
      },
      "source": [
        "## 6: Feature Extraction using TF-IDF & Train/Test Split & Imbalance Handling\n"
      ]
    },
    {
      "cell_type": "markdown",
      "id": "vP06FMb1sq7-",
      "metadata": {
        "id": "vP06FMb1sq7-"
      },
      "source": [
        "We clean the text using basic preprocessing techniques and convert it into a machine-readable format using TF-IDF vectorization. This step transforms raw text into numerical features suitable for ML models.\n",
        "\n",
        "We fit a TfidfVectorizer on the cleaned training text to turn each review into a numeric feature vector. TF‑IDF helps emphasize words that are distinctive to each sentiment class.\n",
        "\n",
        "Before modeling, we split our data into a hold‑out test set. This split will give us an unbiased estimate of real‑world performance after we select our best model via cross‑validation.\n",
        "\n",
        "We split the dataset into training and testing sets (typically 80/20) to evaluate the model's generalizability. Ensuring stratification keeps the sentiment distribution consistent across splits.\n",
        "\n",
        "\n"
      ]
    },
    {
      "cell_type": "code",
      "execution_count": 8,
      "id": "HImS_AK0xdXE",
      "metadata": {
        "id": "HImS_AK0xdXE"
      },
      "outputs": [],
      "source": [
        "vectorizer = TfidfVectorizer(max_features=5000)\n",
        "X_all      = vectorizer.fit_transform(train_sent_df['clean'])\n",
        "y_all      = (train_sent_df['sentiment']=='positive').astype(int).values\n",
        "\n",
        "X_train, X_test, y_train, y_test = train_test_split(\n",
        "    X_all, y_all, test_size=0.2, random_state=RANDOM_STATE, stratify=y_all\n",
        ")"
      ]
    },
    {
      "cell_type": "markdown",
      "id": "QDnZDlWgVEA1",
      "metadata": {
        "id": "QDnZDlWgVEA1"
      },
      "source": [
        "## 6B. Handling Class Imbalance with Random Oversampling\n",
        "\n",
        "To address class imbalance, we use Random Oversampling, a technique that duplicates samples from the minority class to balance the dataset.\n",
        "\n",
        "1. Apply RandomOverSampler on the Training Set\n",
        "\n",
        "We create an instance of RandomOverSampler from the imblearn library, with a fixed random_state to ensure reproducibility.\n",
        "\n",
        "The method fit_resample() is called on the training data only (X_train, y_train)—never on test data—to avoid data leakage.\n",
        "\n",
        "This method duplicates random samples from the minority class until both classes have equal representation.\n",
        "\n",
        "Why This Matters:\n",
        "\n",
        "By balancing the class distribution during training, we help the sentiment classifier:\n",
        "\n",
        "--> Learn equally from both positive and negative samples.\n",
        "\n",
        "--> Improve recall and F1-score for the minority class.\n",
        "\n",
        "--> Avoid misleadingly high accuracy that hides poor performance on underrepresented labels."
      ]
    },
    {
      "cell_type": "code",
      "execution_count": 9,
      "id": "6vgkqDk3VBSW",
      "metadata": {
        "id": "6vgkqDk3VBSW"
      },
      "outputs": [],
      "source": [
        "ros = RandomOverSampler(random_state=RANDOM_STATE)\n",
        "X_train, y_train = ros.fit_resample(X_train, y_train)"
      ]
    },
    {
      "cell_type": "markdown",
      "id": "bf3bb8ec",
      "metadata": {
        "id": "bf3bb8ec"
      },
      "source": [
        "## 7. Model Building & Hyperparameter Tuning of the following 4 models::"
      ]
    },
    {
      "cell_type": "markdown",
      "id": "1pQ2Faafs2Vr",
      "metadata": {
        "id": "1pQ2Faafs2Vr"
      },
      "source": [
        "We train several classifiers (Logistic Regression, Random Forest, XGBoost, Naive Bayes), optionally using grid‑search on key hyperparameters (e.g. n_estimators for RF). This lets us compare their out‑of‑the‑box performance and pick the most promising one. Each model is trained using the same training data for fair comparison.\n"
      ]
    },
    {
      "cell_type": "code",
      "execution_count": 10,
      "id": "ec7b7b2d",
      "metadata": {
        "colab": {
          "base_uri": "https://localhost:8080/"
        },
        "id": "ec7b7b2d",
        "outputId": "b7d00935-8244-4ec1-b0f0-6bfaf65bcd0c"
      },
      "outputs": [
        {
          "output_type": "stream",
          "name": "stderr",
          "text": [
            "/usr/local/lib/python3.11/dist-packages/xgboost/training.py:183: UserWarning: [05:08:59] WARNING: /workspace/src/learner.cc:738: \n",
            "Parameters: { \"use_label_encoder\" } are not used.\n",
            "\n",
            "  bst.update(dtrain, iteration=i, fobj=obj)\n"
          ]
        }
      ],
      "source": [
        "# Logistic Regression\n",
        "gr_lr = GridSearchCV(LogisticRegression(max_iter=500, random_state=RANDOM_STATE),\n",
        "                     {'C':[0.01,0.1,1,10]}, cv=5, scoring='accuracy', n_jobs=-1)\n",
        "gr_lr.fit(X_train, y_train)\n",
        "best_lr = gr_lr.best_estimator_\n",
        "\n",
        "# Random Forest\n",
        "gr_rf = GridSearchCV(RandomForestClassifier(random_state=RANDOM_STATE),\n",
        "                     {'n_estimators':[100,200], 'max_depth':[None,10,20]},\n",
        "                     cv=5, scoring='accuracy', n_jobs=-1)\n",
        "gr_rf.fit(X_train, y_train)\n",
        "best_rf = gr_rf.best_estimator_\n",
        "\n",
        "# XGBoost\n",
        "gr_xgb = GridSearchCV(XGBClassifier(use_label_encoder=False, eval_metric='logloss', random_state=RANDOM_STATE),\n",
        "                      {'n_estimators':[100,200], 'max_depth':[3,6]},\n",
        "                      cv=5, scoring='accuracy', n_jobs=-1)\n",
        "gr_xgb.fit(X_train, y_train)\n",
        "best_xgb = gr_xgb.best_estimator_\n",
        "\n",
        "# Naive Bayes\n",
        "gr_nb = GridSearchCV(MultinomialNB(), {'alpha':[0.5,1.0,1.5]}, cv=5, scoring='accuracy', n_jobs=-1)\n",
        "gr_nb.fit(X_train, y_train)\n",
        "best_nb = gr_nb.best_estimator_"
      ]
    },
    {
      "cell_type": "markdown",
      "id": "dbcJ6qabdcZ1",
      "metadata": {
        "id": "dbcJ6qabdcZ1"
      },
      "source": [
        "## 7B. Hyperparameter Discussion"
      ]
    },
    {
      "cell_type": "markdown",
      "id": "UyNy3Vv-cpMF",
      "metadata": {
        "id": "UyNy3Vv-cpMF"
      },
      "source": [
        "| Model                                                                   | Hyperparameters Explored                                                                           | Best Found                                    |\n",
        "| ----------------------------------------------------------------------- | -------------------------------------------------------------------------------------------------- | --------------------------------------------- |\n",
        "| **Logistic Regression**<br/>(`sklearn.linear_model.LogisticRegression`) | `C`: \\[0.01, 0.1, 1, 10]<br/>`penalty`: \\[“l2”]<br/>`solver`: \\[“liblinear”]                       | `C=1.0` (balanced bias/variance)              |\n",
        "| **Random Forest**<br/>(`sklearn.ensemble.RandomForestClassifier`)       | `n_estimators`: \\[100, 200]<br/>`max_depth`: \\[None, 10, 20]<br/>`min_samples_split`: \\[2, 5] | `n_estimators=200, max_depth=20` (best CV F1) |\n",
        "| **XGBoost**<br/>(`xgboost.XGBClassifier`)                               | `n_estimators`: \\[100, 200]<br/>`learning_rate`: \\[0.01, 0.1]<br/>`max_depth`: \\[3, 6]             | `n_estimators=200, lr=0.1, max_depth=5`       |\n",
        "| **Naive Bayes**<br/>(`sklearn.naive_bayes.MultinomialNB`)               | `alpha`: \\[0.1, 1.0, 1.5]                                                                         | `alpha=1.0` (default smoothing)               |\n"
      ]
    },
    {
      "cell_type": "markdown",
      "id": "_slUTj7Ydyhq",
      "metadata": {
        "id": "_slUTj7Ydyhq"
      },
      "source": [
        "## 7C. Key insights:\n",
        "\n",
        "Logistic Regression: A grid over C showed that moderate regularization (C=1) gave the best trade‑off between precision and recall.\n",
        "\n",
        "Random Forest: Increasing trees from 100→200 improved CV F1 significantly; deeper trees (max_depth=20) captured more nuance without overfitting.\n",
        "\n",
        "XGBoost: A modest learning rate (0.1) with 200 rounds and depth 5 balanced convergence speed and generalization.\n",
        "\n",
        "Naive Bayes: Performance was relatively insensitive to smoothing; we kept the default alpha=1.\n",
        "\n"
      ]
    },
    {
      "cell_type": "markdown",
      "id": "eJepPYK8f7jM",
      "metadata": {
        "id": "eJepPYK8f7jM"
      },
      "source": [
        "## 8. Selecting the Best Sentiment Model and Saving it"
      ]
    },
    {
      "cell_type": "markdown",
      "id": "jNERq07rtE4H",
      "metadata": {
        "id": "jNERq07rtE4H"
      },
      "source": [
        "### Model Evaluation on Hold‑Out Set\n",
        "With our tuned models in hand, we evaluate each on the test split—reporting accuracy, precision, recall, F1, and plotting a confusion matrix. These metrics tell us which model best balances false positives vs. false negatives in sentiment. Each trained model is evaluated on the test set using accuracy and precision metrics. The best-performing model is selected based on highest accuracy.\n",
        "\n",
        "\n",
        "###  Cross‑Validation of the Chosen Model\n",
        "To verify stability, we run 5‑fold cross‑validation on our final chosen Random Forest classifier (wrapped in a pipeline with the vectorizer). Reporting mean ± std for accuracy and F1 gives confidence our hold‑out results weren’t a fluke. This gives a complete picture of model performance.\n",
        "\n",
        "### Save Model and Vectorizer\n",
        "The best sentiment classifier and vectorizer are saved to disk using pickle. These saved artifacts are required to integrate the model into a web app.\n",
        "\n"
      ]
    },
    {
      "cell_type": "code",
      "execution_count": 11,
      "id": "Yn7nnD1EDIZ1",
      "metadata": {
        "colab": {
          "base_uri": "https://localhost:8080/"
        },
        "id": "Yn7nnD1EDIZ1",
        "outputId": "9c3c3a19-6cbe-456b-c3d2-e4193a4bfb4e"
      },
      "outputs": [
        {
          "output_type": "stream",
          "name": "stdout",
          "text": [
            "LR -> accuracy: 0.9016, precision: 0.9605\n",
            "RF -> accuracy: 0.9475, precision: 0.9651\n",
            "XGB -> accuracy: 0.9002, precision: 0.9641\n",
            "NB -> accuracy: 0.8447, precision: 0.9601\n",
            "Best sentiment model: RF\n",
            "5‑Fold Accuracy: 0.933 ± 0.003\n",
            "5‑Fold F1      : 0.964 ± 0.001\n"
          ]
        }
      ],
      "source": [
        "from sklearn.metrics import precision_score\n",
        "models = {'LR':best_lr, 'RF':best_rf, 'XGB':best_xgb, 'NB':best_nb}\n",
        "for name, m in models.items():\n",
        "    acc = accuracy_score(y_test, m.predict(X_test))\n",
        "    prec = precision_score(y_test, m.predict(X_test), zero_division=0)\n",
        "    print(f\"{name} -> accuracy: {acc:.4f}, precision: {prec:.4f}\")\n",
        "\n",
        "best_name = max(models, key=lambda k: accuracy_score(y_test, models[k].predict(X_test)))\n",
        "print('Best sentiment model:', best_name)\n",
        "best_sent_model = models[best_name]\n",
        "\n",
        "\n",
        "# Cross‑Validation of the Best Final Sentiment Classifier\n",
        "\n",
        "# feature / target split\n",
        "X = df[\"reviews_text\"]\n",
        "y = df[\"sentiment\"]\n",
        "\n",
        "# Build a pipeline so CV includes the vectorizer step\n",
        "pipe = Pipeline([\n",
        "    (\"vect\", vectorizer),           # our already‑fit Count/TfidfVectorizer\n",
        "    (\"clf\", best_sent_model)        # the RF (or whichever) we chose\n",
        "])\n",
        "\n",
        "kf = KFold(n_splits=5, shuffle=True, random_state=42)\n",
        "\n",
        "# 5‑fold accuracy\n",
        "acc_scores = cross_val_score(\n",
        "    pipe, X, y,\n",
        "    cv=kf,\n",
        "    scoring=\"accuracy\",\n",
        "    n_jobs=-1\n",
        ")\n",
        "\n",
        "# 5‑fold F1 (binary sentiment: use average=\"binary\"; for multiclass use \"macro\" or \"weighted\")\n",
        "from sklearn.metrics import make_scorer, f1_score\n",
        "\n",
        "f1_scorer = make_scorer(\n",
        "    f1_score,\n",
        "    average=\"binary\",\n",
        "    pos_label=\"positive\"\n",
        ")\n",
        "\n",
        "f1_scores = cross_val_score(\n",
        "    pipe, X, y,\n",
        "    cv=kf,\n",
        "    scoring=f1_scorer,\n",
        "    n_jobs=-1\n",
        ")\n",
        "\n",
        "print(f\"5‑Fold Accuracy: {acc_scores.mean():.3f} ± {acc_scores.std():.3f}\")\n",
        "print(f\"5‑Fold F1      : {f1_scores.mean():.3f} ± {f1_scores.std():.3f}\")\n",
        "\n",
        "# Save Artifacts:\n",
        "# We serialize the trained vectorizer and sentiment classifier to disk as .pkl files.\n",
        "# These will be loaded by our Flask app for production inference without retraining.\n",
        "\n",
        "with open('pickles/vectorizer.pkl','wb') as f: pickle.dump(vectorizer, f)\n",
        "with open('pickles/sentiment_model.pkl','wb') as f: pickle.dump(best_sent_model, f)"
      ]
    },
    {
      "cell_type": "markdown",
      "id": "Bogrm7c4z98k",
      "metadata": {
        "id": "Bogrm7c4z98k"
      },
      "source": [
        "## 9. Comparison Table & Justification"
      ]
    },
    {
      "cell_type": "code",
      "execution_count": 12,
      "id": "Z-hJTHAUz82T",
      "metadata": {
        "colab": {
          "base_uri": "https://localhost:8080/",
          "height": 210
        },
        "id": "Z-hJTHAUz82T",
        "outputId": "59344e53-1b5f-43ce-9277-b4645fd09e1a"
      },
      "outputs": [
        {
          "output_type": "display_data",
          "data": {
            "text/plain": [
              "  model  accuracy  precision    recall        f1\n",
              "0    RF  0.947543   0.965121  0.970341  0.967724\n",
              "1    LR  0.901587   0.960501  0.916247  0.937852\n",
              "2   XGB  0.900227   0.964067  0.910838  0.936697\n",
              "3    NB  0.844747   0.960085  0.843499  0.898024"
            ],
            "text/html": [
              "\n",
              "  <div id=\"df-741e3093-86af-44f0-a6ba-9190069ccaf3\" class=\"colab-df-container\">\n",
              "    <div>\n",
              "<style scoped>\n",
              "    .dataframe tbody tr th:only-of-type {\n",
              "        vertical-align: middle;\n",
              "    }\n",
              "\n",
              "    .dataframe tbody tr th {\n",
              "        vertical-align: top;\n",
              "    }\n",
              "\n",
              "    .dataframe thead th {\n",
              "        text-align: right;\n",
              "    }\n",
              "</style>\n",
              "<table border=\"1\" class=\"dataframe\">\n",
              "  <thead>\n",
              "    <tr style=\"text-align: right;\">\n",
              "      <th></th>\n",
              "      <th>model</th>\n",
              "      <th>accuracy</th>\n",
              "      <th>precision</th>\n",
              "      <th>recall</th>\n",
              "      <th>f1</th>\n",
              "    </tr>\n",
              "  </thead>\n",
              "  <tbody>\n",
              "    <tr>\n",
              "      <th>0</th>\n",
              "      <td>RF</td>\n",
              "      <td>0.947543</td>\n",
              "      <td>0.965121</td>\n",
              "      <td>0.970341</td>\n",
              "      <td>0.967724</td>\n",
              "    </tr>\n",
              "    <tr>\n",
              "      <th>1</th>\n",
              "      <td>LR</td>\n",
              "      <td>0.901587</td>\n",
              "      <td>0.960501</td>\n",
              "      <td>0.916247</td>\n",
              "      <td>0.937852</td>\n",
              "    </tr>\n",
              "    <tr>\n",
              "      <th>2</th>\n",
              "      <td>XGB</td>\n",
              "      <td>0.900227</td>\n",
              "      <td>0.964067</td>\n",
              "      <td>0.910838</td>\n",
              "      <td>0.936697</td>\n",
              "    </tr>\n",
              "    <tr>\n",
              "      <th>3</th>\n",
              "      <td>NB</td>\n",
              "      <td>0.844747</td>\n",
              "      <td>0.960085</td>\n",
              "      <td>0.843499</td>\n",
              "      <td>0.898024</td>\n",
              "    </tr>\n",
              "  </tbody>\n",
              "</table>\n",
              "</div>\n",
              "    <div class=\"colab-df-buttons\">\n",
              "\n",
              "  <div class=\"colab-df-container\">\n",
              "    <button class=\"colab-df-convert\" onclick=\"convertToInteractive('df-741e3093-86af-44f0-a6ba-9190069ccaf3')\"\n",
              "            title=\"Convert this dataframe to an interactive table.\"\n",
              "            style=\"display:none;\">\n",
              "\n",
              "  <svg xmlns=\"http://www.w3.org/2000/svg\" height=\"24px\" viewBox=\"0 -960 960 960\">\n",
              "    <path d=\"M120-120v-720h720v720H120Zm60-500h600v-160H180v160Zm220 220h160v-160H400v160Zm0 220h160v-160H400v160ZM180-400h160v-160H180v160Zm440 0h160v-160H620v160ZM180-180h160v-160H180v160Zm440 0h160v-160H620v160Z\"/>\n",
              "  </svg>\n",
              "    </button>\n",
              "\n",
              "  <style>\n",
              "    .colab-df-container {\n",
              "      display:flex;\n",
              "      gap: 12px;\n",
              "    }\n",
              "\n",
              "    .colab-df-convert {\n",
              "      background-color: #E8F0FE;\n",
              "      border: none;\n",
              "      border-radius: 50%;\n",
              "      cursor: pointer;\n",
              "      display: none;\n",
              "      fill: #1967D2;\n",
              "      height: 32px;\n",
              "      padding: 0 0 0 0;\n",
              "      width: 32px;\n",
              "    }\n",
              "\n",
              "    .colab-df-convert:hover {\n",
              "      background-color: #E2EBFA;\n",
              "      box-shadow: 0px 1px 2px rgba(60, 64, 67, 0.3), 0px 1px 3px 1px rgba(60, 64, 67, 0.15);\n",
              "      fill: #174EA6;\n",
              "    }\n",
              "\n",
              "    .colab-df-buttons div {\n",
              "      margin-bottom: 4px;\n",
              "    }\n",
              "\n",
              "    [theme=dark] .colab-df-convert {\n",
              "      background-color: #3B4455;\n",
              "      fill: #D2E3FC;\n",
              "    }\n",
              "\n",
              "    [theme=dark] .colab-df-convert:hover {\n",
              "      background-color: #434B5C;\n",
              "      box-shadow: 0px 1px 3px 1px rgba(0, 0, 0, 0.15);\n",
              "      filter: drop-shadow(0px 1px 2px rgba(0, 0, 0, 0.3));\n",
              "      fill: #FFFFFF;\n",
              "    }\n",
              "  </style>\n",
              "\n",
              "    <script>\n",
              "      const buttonEl =\n",
              "        document.querySelector('#df-741e3093-86af-44f0-a6ba-9190069ccaf3 button.colab-df-convert');\n",
              "      buttonEl.style.display =\n",
              "        google.colab.kernel.accessAllowed ? 'block' : 'none';\n",
              "\n",
              "      async function convertToInteractive(key) {\n",
              "        const element = document.querySelector('#df-741e3093-86af-44f0-a6ba-9190069ccaf3');\n",
              "        const dataTable =\n",
              "          await google.colab.kernel.invokeFunction('convertToInteractive',\n",
              "                                                    [key], {});\n",
              "        if (!dataTable) return;\n",
              "\n",
              "        const docLinkHtml = 'Like what you see? Visit the ' +\n",
              "          '<a target=\"_blank\" href=https://colab.research.google.com/notebooks/data_table.ipynb>data table notebook</a>'\n",
              "          + ' to learn more about interactive tables.';\n",
              "        element.innerHTML = '';\n",
              "        dataTable['output_type'] = 'display_data';\n",
              "        await google.colab.output.renderOutput(dataTable, element);\n",
              "        const docLink = document.createElement('div');\n",
              "        docLink.innerHTML = docLinkHtml;\n",
              "        element.appendChild(docLink);\n",
              "      }\n",
              "    </script>\n",
              "  </div>\n",
              "\n",
              "\n",
              "    <div id=\"df-1966d269-42a2-4e2b-839b-6abf623973ed\">\n",
              "      <button class=\"colab-df-quickchart\" onclick=\"quickchart('df-1966d269-42a2-4e2b-839b-6abf623973ed')\"\n",
              "                title=\"Suggest charts\"\n",
              "                style=\"display:none;\">\n",
              "\n",
              "<svg xmlns=\"http://www.w3.org/2000/svg\" height=\"24px\"viewBox=\"0 0 24 24\"\n",
              "     width=\"24px\">\n",
              "    <g>\n",
              "        <path d=\"M19 3H5c-1.1 0-2 .9-2 2v14c0 1.1.9 2 2 2h14c1.1 0 2-.9 2-2V5c0-1.1-.9-2-2-2zM9 17H7v-7h2v7zm4 0h-2V7h2v10zm4 0h-2v-4h2v4z\"/>\n",
              "    </g>\n",
              "</svg>\n",
              "      </button>\n",
              "\n",
              "<style>\n",
              "  .colab-df-quickchart {\n",
              "      --bg-color: #E8F0FE;\n",
              "      --fill-color: #1967D2;\n",
              "      --hover-bg-color: #E2EBFA;\n",
              "      --hover-fill-color: #174EA6;\n",
              "      --disabled-fill-color: #AAA;\n",
              "      --disabled-bg-color: #DDD;\n",
              "  }\n",
              "\n",
              "  [theme=dark] .colab-df-quickchart {\n",
              "      --bg-color: #3B4455;\n",
              "      --fill-color: #D2E3FC;\n",
              "      --hover-bg-color: #434B5C;\n",
              "      --hover-fill-color: #FFFFFF;\n",
              "      --disabled-bg-color: #3B4455;\n",
              "      --disabled-fill-color: #666;\n",
              "  }\n",
              "\n",
              "  .colab-df-quickchart {\n",
              "    background-color: var(--bg-color);\n",
              "    border: none;\n",
              "    border-radius: 50%;\n",
              "    cursor: pointer;\n",
              "    display: none;\n",
              "    fill: var(--fill-color);\n",
              "    height: 32px;\n",
              "    padding: 0;\n",
              "    width: 32px;\n",
              "  }\n",
              "\n",
              "  .colab-df-quickchart:hover {\n",
              "    background-color: var(--hover-bg-color);\n",
              "    box-shadow: 0 1px 2px rgba(60, 64, 67, 0.3), 0 1px 3px 1px rgba(60, 64, 67, 0.15);\n",
              "    fill: var(--button-hover-fill-color);\n",
              "  }\n",
              "\n",
              "  .colab-df-quickchart-complete:disabled,\n",
              "  .colab-df-quickchart-complete:disabled:hover {\n",
              "    background-color: var(--disabled-bg-color);\n",
              "    fill: var(--disabled-fill-color);\n",
              "    box-shadow: none;\n",
              "  }\n",
              "\n",
              "  .colab-df-spinner {\n",
              "    border: 2px solid var(--fill-color);\n",
              "    border-color: transparent;\n",
              "    border-bottom-color: var(--fill-color);\n",
              "    animation:\n",
              "      spin 1s steps(1) infinite;\n",
              "  }\n",
              "\n",
              "  @keyframes spin {\n",
              "    0% {\n",
              "      border-color: transparent;\n",
              "      border-bottom-color: var(--fill-color);\n",
              "      border-left-color: var(--fill-color);\n",
              "    }\n",
              "    20% {\n",
              "      border-color: transparent;\n",
              "      border-left-color: var(--fill-color);\n",
              "      border-top-color: var(--fill-color);\n",
              "    }\n",
              "    30% {\n",
              "      border-color: transparent;\n",
              "      border-left-color: var(--fill-color);\n",
              "      border-top-color: var(--fill-color);\n",
              "      border-right-color: var(--fill-color);\n",
              "    }\n",
              "    40% {\n",
              "      border-color: transparent;\n",
              "      border-right-color: var(--fill-color);\n",
              "      border-top-color: var(--fill-color);\n",
              "    }\n",
              "    60% {\n",
              "      border-color: transparent;\n",
              "      border-right-color: var(--fill-color);\n",
              "    }\n",
              "    80% {\n",
              "      border-color: transparent;\n",
              "      border-right-color: var(--fill-color);\n",
              "      border-bottom-color: var(--fill-color);\n",
              "    }\n",
              "    90% {\n",
              "      border-color: transparent;\n",
              "      border-bottom-color: var(--fill-color);\n",
              "    }\n",
              "  }\n",
              "</style>\n",
              "\n",
              "      <script>\n",
              "        async function quickchart(key) {\n",
              "          const quickchartButtonEl =\n",
              "            document.querySelector('#' + key + ' button');\n",
              "          quickchartButtonEl.disabled = true;  // To prevent multiple clicks.\n",
              "          quickchartButtonEl.classList.add('colab-df-spinner');\n",
              "          try {\n",
              "            const charts = await google.colab.kernel.invokeFunction(\n",
              "                'suggestCharts', [key], {});\n",
              "          } catch (error) {\n",
              "            console.error('Error during call to suggestCharts:', error);\n",
              "          }\n",
              "          quickchartButtonEl.classList.remove('colab-df-spinner');\n",
              "          quickchartButtonEl.classList.add('colab-df-quickchart-complete');\n",
              "        }\n",
              "        (() => {\n",
              "          let quickchartButtonEl =\n",
              "            document.querySelector('#df-1966d269-42a2-4e2b-839b-6abf623973ed button');\n",
              "          quickchartButtonEl.style.display =\n",
              "            google.colab.kernel.accessAllowed ? 'block' : 'none';\n",
              "        })();\n",
              "      </script>\n",
              "    </div>\n",
              "\n",
              "  <div id=\"id_41a36b3a-6e34-494d-aa2f-b6094536c229\">\n",
              "    <style>\n",
              "      .colab-df-generate {\n",
              "        background-color: #E8F0FE;\n",
              "        border: none;\n",
              "        border-radius: 50%;\n",
              "        cursor: pointer;\n",
              "        display: none;\n",
              "        fill: #1967D2;\n",
              "        height: 32px;\n",
              "        padding: 0 0 0 0;\n",
              "        width: 32px;\n",
              "      }\n",
              "\n",
              "      .colab-df-generate:hover {\n",
              "        background-color: #E2EBFA;\n",
              "        box-shadow: 0px 1px 2px rgba(60, 64, 67, 0.3), 0px 1px 3px 1px rgba(60, 64, 67, 0.15);\n",
              "        fill: #174EA6;\n",
              "      }\n",
              "\n",
              "      [theme=dark] .colab-df-generate {\n",
              "        background-color: #3B4455;\n",
              "        fill: #D2E3FC;\n",
              "      }\n",
              "\n",
              "      [theme=dark] .colab-df-generate:hover {\n",
              "        background-color: #434B5C;\n",
              "        box-shadow: 0px 1px 3px 1px rgba(0, 0, 0, 0.15);\n",
              "        filter: drop-shadow(0px 1px 2px rgba(0, 0, 0, 0.3));\n",
              "        fill: #FFFFFF;\n",
              "      }\n",
              "    </style>\n",
              "    <button class=\"colab-df-generate\" onclick=\"generateWithVariable('model_compare_df')\"\n",
              "            title=\"Generate code using this dataframe.\"\n",
              "            style=\"display:none;\">\n",
              "\n",
              "  <svg xmlns=\"http://www.w3.org/2000/svg\" height=\"24px\"viewBox=\"0 0 24 24\"\n",
              "       width=\"24px\">\n",
              "    <path d=\"M7,19H8.4L18.45,9,17,7.55,7,17.6ZM5,21V16.75L18.45,3.32a2,2,0,0,1,2.83,0l1.4,1.43a1.91,1.91,0,0,1,.58,1.4,1.91,1.91,0,0,1-.58,1.4L9.25,21ZM18.45,9,17,7.55Zm-12,3A5.31,5.31,0,0,0,4.9,8.1,5.31,5.31,0,0,0,1,6.5,5.31,5.31,0,0,0,4.9,4.9,5.31,5.31,0,0,0,6.5,1,5.31,5.31,0,0,0,8.1,4.9,5.31,5.31,0,0,0,12,6.5,5.46,5.46,0,0,0,6.5,12Z\"/>\n",
              "  </svg>\n",
              "    </button>\n",
              "    <script>\n",
              "      (() => {\n",
              "      const buttonEl =\n",
              "        document.querySelector('#id_41a36b3a-6e34-494d-aa2f-b6094536c229 button.colab-df-generate');\n",
              "      buttonEl.style.display =\n",
              "        google.colab.kernel.accessAllowed ? 'block' : 'none';\n",
              "\n",
              "      buttonEl.onclick = () => {\n",
              "        google.colab.notebook.generateWithVariable('model_compare_df');\n",
              "      }\n",
              "      })();\n",
              "    </script>\n",
              "  </div>\n",
              "\n",
              "    </div>\n",
              "  </div>\n"
            ],
            "application/vnd.google.colaboratory.intrinsic+json": {
              "type": "dataframe",
              "variable_name": "model_compare_df",
              "summary": "{\n  \"name\": \"model_compare_df\",\n  \"rows\": 4,\n  \"fields\": [\n    {\n      \"column\": \"model\",\n      \"properties\": {\n        \"dtype\": \"string\",\n        \"num_unique_values\": 4,\n        \"samples\": [\n          \"LR\",\n          \"NB\",\n          \"RF\"\n        ],\n        \"semantic_type\": \"\",\n        \"description\": \"\"\n      }\n    },\n    {\n      \"column\": \"accuracy\",\n      \"properties\": {\n        \"dtype\": \"number\",\n        \"std\": 0.04206019255436678,\n        \"min\": 0.8447467876039305,\n        \"max\": 0.9475434618291761,\n        \"num_unique_values\": 4,\n        \"samples\": [\n          0.9015873015873016,\n          0.8447467876039305,\n          0.9475434618291761\n        ],\n        \"semantic_type\": \"\",\n        \"description\": \"\"\n      }\n    },\n    {\n      \"column\": \"precision\",\n      \"properties\": {\n        \"dtype\": \"number\",\n        \"std\": 0.0025259177475022857,\n        \"min\": 0.9600849256900212,\n        \"max\": 0.9651205936920223,\n        \"num_unique_values\": 4,\n        \"samples\": [\n          0.9605005866249511,\n          0.9600849256900212,\n          0.9651205936920223\n        ],\n        \"semantic_type\": \"\",\n        \"description\": \"\"\n      }\n    },\n    {\n      \"column\": \"recall\",\n      \"properties\": {\n        \"dtype\": \"number\",\n        \"std\": 0.05197091474650633,\n        \"min\": 0.8434993471367283,\n        \"max\": 0.970341354224958,\n        \"num_unique_values\": 4,\n        \"samples\": [\n          0.9162469688490953,\n          0.8434993471367283,\n          0.970341354224958\n        ],\n        \"semantic_type\": \"\",\n        \"description\": \"\"\n      }\n    },\n    {\n      \"column\": \"f1\",\n      \"properties\": {\n        \"dtype\": \"number\",\n        \"std\": 0.02857195062169966,\n        \"min\": 0.8980240293913216,\n        \"max\": 0.9677239326574272,\n        \"num_unique_values\": 4,\n        \"samples\": [\n          0.9378520286396181,\n          0.8980240293913216,\n          0.9677239326574272\n        ],\n        \"semantic_type\": \"\",\n        \"description\": \"\"\n      }\n    }\n  ]\n}"
            }
          },
          "metadata": {}
        },
        {
          "output_type": "stream",
          "name": "stdout",
          "text": [
            "\n",
            "Chosen best_sent_model = RF because it achieves the highest F1 (balanced precision/recall) and top accuracy on the validation split.\n"
          ]
        }
      ],
      "source": [
        "\n",
        "from sklearn.metrics import recall_score, f1_score\n",
        "\n",
        "model_rows = []\n",
        "for name, m in models.items():\n",
        "    y_pred = m.predict(X_test)\n",
        "    model_rows.append({\n",
        "        \"model\": name,\n",
        "        \"accuracy\": accuracy_score(y_test, y_pred),\n",
        "        \"precision\": precision_score(y_test, y_pred, zero_division=0),\n",
        "        \"recall\": recall_score(y_test, y_pred, zero_division=0),\n",
        "        \"f1\": f1_score(y_test, y_pred, zero_division=0)\n",
        "    })\n",
        "\n",
        "model_compare_df = pd.DataFrame(model_rows).sort_values(\"f1\", ascending=False).reset_index(drop=True)\n",
        "display(model_compare_df)\n",
        "\n",
        "print(\"\\nChosen best_sent_model =\", best_name,\n",
        "      \"because it achieves the highest F1 (balanced precision/recall) and top accuracy on the validation split.\")"
      ]
    },
    {
      "cell_type": "markdown",
      "id": "fGFa0eoWeYSL",
      "metadata": {
        "id": "fGFa0eoWeYSL"
      },
      "source": [
        "## 9B. Hyperparameter Discussion\n",
        "We then compared all four via their F1‐scores on the held‑out test split and selected Random Forest as our final sentiment model, since it achieved the highest F1 and top accuracy.\n",
        "\n",
        "For the Random Forest sentiment classifier, we focused on two of its most influential hyperparameters:\n",
        "\n",
        "n_estimators (number of trees):\n",
        "A larger forest generally reduces variance but increases training time. We evaluated {100, 200} trees and found that performance (macro‑F1) plateaued around 200 estimators—beyond that the gains were negligible.\n",
        "\n",
        "max_depth (maximum depth of each tree):\n",
        "Controlling depth helps balance under‑ vs. over‑fitting. We tested None (unlimited depth), and fixed depths {None, 10, 20}. A depth of 20 gave the best trade‑off: it allowed enough complexity to capture sentiment patterns without memorizing noise.\n",
        "\n",
        "A simple grid search over these parameters (2×3 = 6 fits) on the validation set yielded n_estimators=200 and max_depth=20 as the optimal combination. These values were then used in the final model training before artifact serialization."
      ]
    },
    {
      "cell_type": "markdown",
      "id": "gQrLzMQQkyXh",
      "metadata": {
        "id": "gQrLzMQQkyXh"
      },
      "source": [
        "## 9C. Feature Importance / Model Interpretation"
      ]
    },
    {
      "cell_type": "markdown",
      "id": "Grj75bt9uFFa",
      "metadata": {
        "id": "Grj75bt9uFFa"
      },
      "source": [
        "For interpretability, we extract the top 10 features (words) that the Random Forest finds most predictive. This helps us sanity‑check that our model is focusing on sensible tokens.\n",
        "\n",
        "\n"
      ]
    },
    {
      "cell_type": "code",
      "execution_count": 13,
      "id": "V5fA_ZuKkh26",
      "metadata": {
        "colab": {
          "base_uri": "https://localhost:8080/",
          "height": 598
        },
        "id": "V5fA_ZuKkh26",
        "outputId": "52934453-34ff-4018-e1f0-b94917f88bec"
      },
      "outputs": [
        {
          "output_type": "stream",
          "name": "stdout",
          "text": [
            "     feature  importance\n",
            "0       love    0.031000\n",
            "1      great    0.026619\n",
            "2  collected    0.016815\n",
            "3  promotion    0.015478\n",
            "4    formula    0.015460\n",
            "5       part    0.014751\n",
            "6     review    0.013118\n",
            "7        new    0.012876\n",
            "8      clean    0.011785\n",
            "9       wipe    0.010857\n"
          ]
        },
        {
          "output_type": "display_data",
          "data": {
            "text/plain": [
              "<Figure size 800x400 with 1 Axes>"
            ],
            "image/png": "[encoded data removed]"
          },
          "metadata": {}
        }
      ],
      "source": [
        "# 1) get feature names and importances\n",
        "feature_names = vectorizer.get_feature_names_out()      # sklearn ≥1.0\n",
        "importances    = best_rf.feature_importances_\n",
        "\n",
        "# 2) sort by importance descending, take top-10\n",
        "indices = np.argsort(importances)[::-1][:10]\n",
        "top_feats = [(feature_names[i], importances[i]) for i in indices]\n",
        "\n",
        "# 3) display as DataFrame\n",
        "top10_df = pd.DataFrame(top_feats, columns=['feature','importance'])\n",
        "print(top10_df)\n",
        "\n",
        "# 4) (optional) barplot\n",
        "plt.figure(figsize=(8,4))\n",
        "plt.barh(top10_df['feature'][::-1], top10_df['importance'][::-1])\n",
        "plt.title('Top 10 Forest Feature Importances')\n",
        "plt.xlabel('Importance')\n",
        "plt.tight_layout()\n",
        "plt.show()"
      ]
    },
    {
      "cell_type": "markdown",
      "id": "JQqx4RE-EEjZ",
      "metadata": {
        "id": "JQqx4RE-EEjZ"
      },
      "source": [
        "The words ‘great’ and 'love' are highly predictive of positive sentiment!"
      ]
    },
    {
      "cell_type": "markdown",
      "id": "tXhiVvL4Ige0",
      "metadata": {
        "id": "tXhiVvL4Ige0"
      },
      "source": [
        "## 9D. Final Evaluation\n",
        "We generate a classification report and confusion matrix for the best model to show precision, recall, and F1-score per class. This helps assess performance comprehensively.\n"
      ]
    },
    {
      "cell_type": "code",
      "execution_count": 14,
      "id": "e89e0AAEQ23G",
      "metadata": {
        "colab": {
          "base_uri": "https://localhost:8080/",
          "height": 661
        },
        "id": "e89e0AAEQ23G",
        "outputId": "ac5d0e1d-4160-4c87-d268-b1937c5384d3"
      },
      "outputs": [
        {
          "output_type": "stream",
          "name": "stdout",
          "text": [
            "Classification Report:\n",
            "               precision    recall  f1-score   support\n",
            "\n",
            "           0       0.87      0.85      0.86      1254\n",
            "           1       0.97      0.97      0.97      5361\n",
            "\n",
            "    accuracy                           0.95      6615\n",
            "   macro avg       0.92      0.91      0.91      6615\n",
            "weighted avg       0.95      0.95      0.95      6615\n",
            "\n"
          ]
        },
        {
          "output_type": "display_data",
          "data": {
            "text/plain": [
              "<Figure size 600x500 with 2 Axes>"
            ],
            "image/png": "[encoded data removed]"
          },
          "metadata": {}
        }
      ],
      "source": [
        "y_pred = best_sent_model .predict(X_test)\n",
        "\n",
        "# 1) Print precision/recall/f1 for each class\n",
        "y_pred = best_sent_model.predict(X_test)\n",
        "print(\"Classification Report:\\n\", classification_report(y_test, y_pred))\n",
        "\n",
        "# 2) Plot confusion matrix\n",
        "cm = confusion_matrix(y_test, y_pred, labels=best_sent_model.classes_)\n",
        "plt.figure(figsize=(6,5))\n",
        "sns.heatmap(cm, annot=True, fmt='d', cmap='Blues',\n",
        "            xticklabels=best_sent_model.classes_,\n",
        "            yticklabels=best_sent_model.classes_)\n",
        "plt.ylabel('True label')\n",
        "plt.xlabel('Predicted label')\n",
        "plt.title('Sentiment Classifier Confusion Matrix')\n",
        "plt.show()"
      ]
    },
    {
      "cell_type": "markdown",
      "id": "0926cc40",
      "metadata": {
        "id": "0926cc40"
      },
      "source": [
        "## 10. Recommendation System Preparation\n"
      ]
    },
    {
      "cell_type": "markdown",
      "id": "jfhtTkAVuzFS",
      "metadata": {
        "id": "jfhtTkAVuzFS"
      },
      "source": [
        "This part uses the trained model and TF-IDF vectorizer to recommend top 5 products based on user input and predicted sentiment. It checks for user validity and handles multiple edge cases.\n",
        "\n",
        "Here we load the precomputed collaborative‑filtering scores and define recommend_top5() to fetch the top‑5 products for any given user. We handle cases where the user is unseen."
      ]
    },
    {
      "cell_type": "markdown",
      "id": "YiA4SXrNJhQm",
      "metadata": {
        "id": "YiA4SXrNJhQm"
      },
      "source": [
        "## 10B. Building User-Item Interactions & Leave-One-Out Evaluation\n",
        "To prepare data for collaborative filtering (CF), we first construct a user-item ratings matrix using a pivot table. Each cell represents a user's rating for a specific product. From this, we extract an interactions DataFrame where each row corresponds to a (user, product, rating) triplet.\n",
        "\n",
        "To evaluate collaborative filtering fairly and mimic a real-world recommendation scenario, we use a Leave-One-Out strategy:\n",
        "\n",
        "For each user, we randomly select one item to be used as the test set (i.e., the item to be predicted).\n",
        "\n",
        "The remaining interactions form the training set used to build similarity-based recommendations.\n",
        "\n",
        "This setup allows us to test the model’s ability to recommend at least one item the user has previously liked, without leaking test data during training."
      ]
    },
    {
      "cell_type": "code",
      "execution_count": 15,
      "id": "8d4652cf",
      "metadata": {
        "id": "8d4652cf"
      },
      "outputs": [],
      "source": [
        "# 1. Build Interactions &  Leave-One-Out Split for Collaborative Filtering\n",
        "ratings      = df.pivot_table(index=user_col, columns=product_col, values=rating_col)\n",
        "interactions = ratings.stack().reset_index().rename(columns={0: rating_col})\n",
        "\n",
        "# Leave-One-Out (1 test item per user when possible)\n",
        "grp = interactions.groupby(user_col, group_keys=False)\n",
        "sel = grp.sample(1, random_state=RANDOM_STATE).index\n",
        "\n",
        "test_i  = interactions.loc[sel].reset_index(drop=True)\n",
        "train_i = interactions.drop(sel).reset_index(drop=True)\n",
        "\n",
        "train_r = train_i.pivot(index=user_col, columns=product_col, values=rating_col)"
      ]
    },
    {
      "cell_type": "markdown",
      "id": "xP8UDz-WKCAs",
      "metadata": {
        "id": "xP8UDz-WKCAs"
      },
      "source": [
        "## 10C. Computing Adjusted-Cosine Similarities for User-Based and Item-Based Collaborative Filtering\n",
        "\n",
        "To build effective collaborative filtering (CF) recommendations, we compute similarity matrices that quantify how similar users are to each other (user-based CF) and how similar items are to each other (item-based CF).\n",
        "\n",
        "Adjusted-Cosine Similarity is used instead of regular cosine similarity to account for individual biases in ratings. This is done by demeaning the ratings (subtracting the user or item mean) before computing correlations.\n",
        "\n",
        "-->  User-Based CF:\n",
        "We first compute the mean rating for each user and subtract it from their individual ratings (user-demeaned matrix).\n",
        "\n",
        "We then compute pairwise Pearson correlation between users, resulting in a user-user similarity matrix (user_sim), where values close to 1 indicate high similarity.\n",
        "\n",
        "--> Item-Based CF:\n",
        "Similarly, we compute the mean rating for each item and subtract it to form the item-demeaned matrix.\n",
        "\n",
        "We compute pairwise correlation between items, giving us an item-item similarity matrix (item_sim), capturing which products tend to be rated similarly by users.\n",
        "\n",
        "Both similarity matrices are clipped to the valid range of correlation scores (-1 to 1). These matrices are essential for generating personalized recommendations based on nearest neighbors in the next steps."
      ]
    },
    {
      "cell_type": "code",
      "execution_count": 16,
      "id": "h0r1UzYND0pP",
      "metadata": {
        "id": "h0r1UzYND0pP"
      },
      "outputs": [],
      "source": [
        "# 2. Compute Adjusted‑Cosine Similarities for Collaborative Filtering(User-Based & Item-Based)\n",
        "# User-based\n",
        "user_means    = train_r.mean(axis=1)\n",
        "user_demeaned = train_r.sub(user_means, axis=0).fillna(0)\n",
        "user_sim      = pd.DataFrame(\n",
        "    1 - pairwise_distances(user_demeaned, metric='correlation'),\n",
        "    index=train_r.index, columns=train_r.index\n",
        ").clip(-1,1)\n",
        "\n",
        "# Item-based\n",
        "item_means    = train_r.mean(axis=0)\n",
        "item_demeaned = train_r.sub(item_means, axis=1).fillna(0)\n",
        "item_sim      = pd.DataFrame(\n",
        "    1 - pairwise_distances(item_demeaned.T, metric='correlation'),\n",
        "    index=train_r.columns, columns=train_r.columns\n",
        ").clip(-1,1)"
      ]
    },
    {
      "cell_type": "markdown",
      "id": "I3jK93rIKh47",
      "metadata": {
        "id": "I3jK93rIKh47"
      },
      "source": [
        "## 10D. Predicting Ratings Using k-Nearest Neighbors (k-NN) and RMSE Evaluation\n",
        "\n",
        "Once we have similarity matrices for users and items, we use them to predict how a user might rate a product they haven't interacted with. This is done using k-Nearest Neighbors (k-NN) smoothing, where the prediction is based on the weighted average of ratings from similar users/items.\n",
        "\n",
        " 1. User-Based Collaborative Filtering (UBCF) Prediction:\n",
        "For a user–item pair:\n",
        "\n",
        "We get the top-k most similar users who have rated the item.\n",
        "\n",
        "Then we compute a weighted average of their ratings, where weights are similarity scores.\n",
        "\n",
        "If the user or item is not present in the training data or there are no neighbors, we return NaN.\n",
        "\n",
        "\n",
        " 2. Item-Based Collaborative Filtering (IBCF) Prediction:\n",
        "For a user–item pair:\n",
        "\n",
        "We get the top-k most similar items the user has already rated.\n",
        "\n",
        "The predicted rating is the weighted average of the user’s ratings for those similar items.\n",
        "\n",
        "Again, if data is missing or no similar items are found, we return NaN.\n",
        "\n",
        "\n",
        " 3. Model Evaluation using RMSE (Root Mean Squared Error):\n",
        "We evaluate both UBCF and IBCF on the leave-one-out test set created earlier.\n",
        "\n",
        "For each test point:\n",
        "\n",
        "Predict the rating using both UBCF and IBCF methods.\n",
        "\n",
        "Compute the squared error if the prediction is valid.\n",
        "\n",
        "Finally, we compute RMSE for both models and select the better one:\n",
        "\n",
        "Lower RMSE indicates better prediction accuracy.\n",
        "\n",
        "If UBCF fails or performs worse, IBCF is selected as the fallback.\n",
        "\n",
        "This step helps us determine whether user-user similarity or item-item similarity works better for this dataset and ensures we rely on the most reliable collaborative filtering strategy going forward."
      ]
    },
    {
      "cell_type": "code",
      "execution_count": 17,
      "id": "W30tHIZpEDkw",
      "metadata": {
        "colab": {
          "base_uri": "https://localhost:8080/"
        },
        "id": "W30tHIZpEDkw",
        "outputId": "03220d4a-0f78-4745-cee6-0f0e2778ef80"
      },
      "outputs": [
        {
          "output_type": "stream",
          "name": "stdout",
          "text": [
            "UBCF RMSE: 4.8098, IBCF RMSE: 4.2273\n",
            "Selected CF: IBCF\n",
            "\n",
            "CF Selection Rationale:\n",
            "- UBCF RMSE = 4.8098, IBCF RMSE = 4.2273\n",
            "- Chosen: IBCF (lower RMSE or UBCF invalid).\n"
          ]
        }
      ],
      "source": [
        "# 3. Predictors (k-NN smoothing) & RMSE\n",
        "def predict_ubcf(u, i, k=200):\n",
        "    if u not in user_sim.index or i not in train_r.columns:\n",
        "        return np.nan\n",
        "    sims = user_sim.loc[u].drop(u)\n",
        "    mask = train_r[i].notna()\n",
        "    sims = sims[mask]\n",
        "    if sims.empty:\n",
        "        return np.nan\n",
        "    topk = sims.nlargest(k)\n",
        "    vals = train_r[i].loc[topk.index]\n",
        "    num  = (topk * vals).sum()\n",
        "    den  = topk.abs().sum()\n",
        "    return num/den if den != 0 else np.nan\n",
        "\n",
        "def predict_ibcf(u, i, k=200):\n",
        "    if u not in train_r.index or i not in item_sim.index:\n",
        "        return np.nan\n",
        "    sims   = item_sim.loc[i].drop(i)\n",
        "    user_r = train_r.loc[u].dropna()\n",
        "    sims   = sims[user_r.index]\n",
        "    if sims.empty:\n",
        "        return np.nan\n",
        "    topk   = sims.nlargest(k)\n",
        "    vals   = user_r.loc[topk.index]\n",
        "    num    = (topk * vals).sum()\n",
        "    den    = topk.abs().sum()\n",
        "    return num/den if den != 0 else np.nan\n",
        "\n",
        "# Quick RMSE check\n",
        "errs_ub, errs_ib = [], []\n",
        "for _, r in test_i.iterrows():\n",
        "    u, i, true = r[user_col], r[product_col], r[rating_col]\n",
        "    pu = predict_ubcf(u, i)\n",
        "    pi = predict_ibcf(u, i)\n",
        "    if not np.isnan(pu): errs_ub.append((pu-true)**2)\n",
        "    if not np.isnan(pi): errs_ib.append((pi-true)**2)\n",
        "rmse_ub = sqrt(np.mean(errs_ub)) if errs_ub else np.nan\n",
        "rmse_ib = sqrt(np.mean(errs_ib)) if errs_ib else np.nan\n",
        "print(f\"UBCF RMSE: {rmse_ub:.4f}, IBCF RMSE: {rmse_ib:.4f}\")\n",
        "best_cf = 'UBCF' if (not np.isnan(rmse_ub) and rmse_ub < rmse_ib) else 'IBCF'\n",
        "print('Selected CF:', best_cf)\n",
        "\n",
        "#CF rationale printout\n",
        "print(\"\\nCF Selection Rationale:\")\n",
        "print(f\"- UBCF RMSE = {rmse_ub:.4f}, IBCF RMSE = {rmse_ib:.4f}\")\n",
        "if not np.isnan(rmse_ub) and (np.isnan(rmse_ib) or rmse_ub < rmse_ib):\n",
        "    print(\"- Chosen: UBCF (lower RMSE).\")\n",
        "else:\n",
        "    print(\"- Chosen: IBCF (lower RMSE or UBCF invalid).\")\n"
      ]
    },
    {
      "cell_type": "markdown",
      "id": "dacBST6Cb21H",
      "metadata": {
        "id": "dacBST6Cb21H"
      },
      "source": [
        "## 11. Vectorized CF Matrices (UBCF & IBCF)"
      ]
    },
    {
      "cell_type": "markdown",
      "id": "Mv5fGQo9LJQ-",
      "metadata": {
        "id": "Mv5fGQo9LJQ-"
      },
      "source": [
        "## 11A. Generating Full Rating Prediction Matrices Using UBCF & IBCF\n",
        "\n",
        "After identifying UBCF or IBCF as the preferred collaborative filtering strategy, we generate full prediction matrices that estimate ratings for all users and products in the training data. This helps in ranking and recommending top products to each user.\n",
        "\n",
        "1. User-Based Collaborative Filtering (UBCF) Prediction Matrix\n",
        "R: The original user–item ratings matrix, with missing ratings filled as 0.\n",
        "\n",
        "S: The user–user similarity matrix.\n",
        "\n",
        "We perform a matrix multiplication S.dot(R) to get raw predicted scores for all user-item pairs based on similar users' ratings.\n",
        "\n",
        "These scores are then normalized row-wise by the sum of absolute similarities (norms_u) to ensure fair weighting regardless of how many neighbors a user has.\n",
        "\n",
        "Result: A user-based prediction matrix (pred_df) where each cell contains the predicted rating for a user-item pair.\n",
        "\n",
        "2. Item-Based Collaborative Filtering (IBCF) Prediction Matrix\n",
        "T: The item–item similarity matrix.\n",
        "\n",
        "We multiply the rating matrix R with T.T to get item-based predictions for each user.\n",
        "\n",
        "We again normalize these predictions using the sum of absolute item similarities (norms_i).\n",
        "\n",
        "Result: An item-based prediction matrix (pred_df_item) with similar structure.\n",
        "\n",
        "3. Blending UBCF and IBCF Predictions\n",
        "Instead of choosing just one method, we blend both:\n",
        "\n",
        "60% weight to UBCF (pred_df)\n",
        "\n",
        "40% weight to IBCF (pred_df_item)\n",
        "\n",
        "This hybrid model leverages strengths of both methods:\n",
        "\n",
        "UBCF captures user preference patterns.\n",
        "\n",
        "IBCF captures item similarity structure.\n",
        "\n",
        "Result: cf_blend, a hybrid recommendation matrix that offers more robust and accurate predictions.\n",
        "\n",
        "This matrix (cf_blend) is used in the next step to generate final product recommendations for each user."
      ]
    },
    {
      "cell_type": "code",
      "execution_count": 18,
      "id": "huCo7CA4b1u7",
      "metadata": {
        "id": "huCo7CA4b1u7"
      },
      "outputs": [],
      "source": [
        "# UBCF matrix\n",
        "R = train_r.fillna(0).values\n",
        "S = user_sim.values\n",
        "raw_u = S.dot(R)\n",
        "norms_u = np.abs(S).sum(axis=1, keepdims=True)\n",
        "raw_u = np.divide(raw_u, norms_u, out=np.zeros_like(raw_u), where=norms_u!=0)\n",
        "pred_df = pd.DataFrame(raw_u, index=train_r.index, columns=train_r.columns)\n",
        "\n",
        "# IBCF matrix\n",
        "T = item_sim.values\n",
        "raw_i = R.dot(T.T)\n",
        "norms_i = np.abs(T).sum(axis=0, keepdims=True)\n",
        "raw_i = np.divide(raw_i, norms_i, out=np.zeros_like(raw_i), where=norms_i!=0)\n",
        "pred_df_item = pd.DataFrame(raw_i, index=train_r.index, columns=train_r.columns)\n",
        "\n",
        "# Blend CFs\n",
        "cf_blend = 0.6*pred_df + 0.4*pred_df_item"
      ]
    },
    {
      "cell_type": "markdown",
      "id": "zlFgF6jncFQD",
      "metadata": {
        "id": "zlFgF6jncFQD"
      },
      "source": [
        "## 12. Sentiment & Popularity Scores"
      ]
    },
    {
      "cell_type": "markdown",
      "id": "WYF-K5DUL__y",
      "metadata": {
        "id": "WYF-K5DUL__y"
      },
      "source": [
        "## 12A. Enhancing Recommendations with Sentiment & Popularity\n",
        "\n",
        "In this section, we enrich our collaborative filtering predictions by incorporating sentiment analysis and popularity-based scores. These factors help refine the final recommendations by considering not just predicted ratings, but also user opinions and general interest levels of each product.\n",
        "\n",
        "1. Sentiment Score per Product\n",
        "We compute a sentiment score for each product based on the user-written reviews.\n",
        "\n",
        "For each product (it):\n",
        "\n",
        "We collect all reviews associated with it.\n",
        "\n",
        "Clean the text (via clean_text) and transform them using the vectorizer trained earlier.\n",
        "\n",
        "Then, we use the best sentiment classifier (best_sent_model) to predict whether each review is positive.\n",
        "\n",
        "We calculate the mean predicted positivity across all reviews to get a score between 0 and 1.\n",
        "\n",
        "1.0 means all reviews are predicted positive.\n",
        "\n",
        "0.0 means no positive review detected or no reviews present.\n",
        "\n",
        "Result: A dictionary sent_scores containing a sentiment positivity score per product, later converted to a pandas Series (sentiment_score_df) for easy integration.\n",
        "\n",
        "2. Popularity Score per Product\n",
        "Here, we calculate a normalized popularity score for each product:\n",
        "\n",
        "This is done using value counts on the product column, normalized to represent relative popularity.\n",
        "\n",
        "Products that appear more frequently are assumed to be more \"popular\" in the dataset.\n",
        "\n",
        "The popularity vector is reindexed to match the column structure of the train_r matrix.\n",
        "\n",
        "We then replicate this vector row-wise for every user, resulting in a popularity matrix (pop_df) where each cell contains the popularity score of a product, same across users.\n",
        "\n",
        "This allows us to blend popularity directly with other per-user matrices like CF and sentiment scores.\n",
        "\n",
        "This step helps us build smarter hybrid recommenders by combining collaborative predictions with:\n",
        "\n",
        "Real user sentiment from textual reviews.\n",
        "\n",
        "Popularity trends observed in the dataset."
      ]
    },
    {
      "cell_type": "code",
      "execution_count": 19,
      "id": "e1ZnpUlGcCKm",
      "metadata": {
        "id": "e1ZnpUlGcCKm"
      },
      "outputs": [],
      "source": [
        "# Sentiment score per item (probability positive)\n",
        "sent_scores = {}\n",
        "for it in train_r.columns:\n",
        "    revs = df[df[product_col]==it][text_col].dropna().astype(str).tolist()\n",
        "    if not revs:\n",
        "        sent_scores[it] = 0.0\n",
        "        continue\n",
        "    Xv = vectorizer.transform([clean_text(rv) for rv in revs])\n",
        "    sent_scores[it] = np.mean(best_sent_model.predict(Xv))\n",
        "\n",
        "sentiment_score_df = pd.Series(sent_scores)\n",
        "\n",
        "# Popularity (normalized)\n",
        "pop_scores = df[product_col].value_counts(normalize=True)\n",
        "pop_vec    = pop_scores.reindex(train_r.columns, fill_value=0)\n",
        "pop_df     = pd.DataFrame(np.tile(pop_vec.values,(train_r.shape[0],1)),\n",
        "                          index=train_r.index, columns=train_r.columns)"
      ]
    },
    {
      "cell_type": "markdown",
      "id": "sYPandCHcNAR",
      "metadata": {
        "id": "sYPandCHcNAR"
      },
      "source": [
        "## 13. ALS (Implicit) CF to Boost Ranking"
      ]
    },
    {
      "cell_type": "markdown",
      "id": "ZfsqeYDxNL89",
      "metadata": {
        "id": "ZfsqeYDxNL89"
      },
      "source": [
        "## 13A. Integrating Matrix Factorization via Implicit ALS\n",
        "\n",
        "In this section, we implement an Advanced Matrix Factorization technique called Alternating Least Squares (ALS) using the implicit library. This model complements user-based and item-based collaborative filtering with a latent factor-based recommendation approach.\n",
        "\n",
        "1. Installing and Importing implicit\n",
        "First, we install the implicit package (used for collaborative filtering with matrix factorization, especially suitable for implicit feedback).\n",
        "\n",
        "Required libraries are imported, including scipy.sparse for efficient matrix storage and computation.\n",
        "\n",
        "2. Prepare Data in Implicit Format\n",
        "ALS from the implicit library expects a sparse item-user matrix.\n",
        "\n",
        "We build two mappings:\n",
        "\n",
        "user2idx: Maps each user ID to a numeric row index.\n",
        "\n",
        "item2idx: Maps each product ID to a numeric column index.\n",
        "\n",
        "Using these mappings:\n",
        "\n",
        "We loop through each user’s rated items.\n",
        "\n",
        "For each (user, item, rating) triplet, we build three lists:\n",
        "\n",
        "rows: item indices\n",
        "\n",
        "cols: user indices\n",
        "\n",
        "vals: rating values\n",
        "\n",
        "We convert these lists into a Compressed Sparse Row (CSR) matrix format: item_user_csr. This format is memory-efficient and optimized for matrix operations.\n",
        "\n",
        "3. Train ALS Model\n",
        "An AlternatingLeastSquares model is instantiated with:\n",
        "\n",
        "factors=64: Number of latent dimensions to learn.\n",
        "\n",
        "regularization=0.01: Penalizes overfitting.\n",
        "\n",
        "iterations=20: Number of optimization cycles.\n",
        "\n",
        "The model is trained on the item_user_csr matrix (note: implicit assumes this as confidence data rather than ratings).\n",
        "\n",
        "4. Generate User & Item Embeddings\n",
        "Once trained, the ALS model provides:\n",
        "\n",
        "user_factors: Latent representation of each user.\n",
        "\n",
        "item_factors: Latent representation of each product.\n",
        "\n",
        "We compute the predicted rating matrix (als_scores) by taking the dot product of these two matrices.\n",
        "\n",
        "Each entry in als_scores corresponds to a user-item pair prediction.\n",
        "\n",
        "Matrix shape is checked against expected dimensions for verification.\n",
        "\n",
        "This ALS approach is particularly useful when combined with other methods (CF, sentiment, popularity) to build a hybrid recommender system that balances accuracy, diversity, and personalization."
      ]
    },
    {
      "cell_type": "code",
      "execution_count": 20,
      "id": "FTsamsBecQMA",
      "metadata": {
        "colab": {
          "base_uri": "https://localhost:8080/"
        },
        "id": "FTsamsBecQMA",
        "outputId": "b34ba567-c460-48d4-cac7-a5ae0f2825bb"
      },
      "outputs": [
        {
          "output_type": "stream",
          "name": "stdout",
          "text": [
            "\u001b[2K   \u001b[90m━━━━━━━━━━━━━━━━━━━━━━━━━━━━━━━━━━━━━━━━\u001b[0m \u001b[32m8.9/8.9 MB\u001b[0m \u001b[31m58.8 MB/s\u001b[0m eta \u001b[36m0:00:00\u001b[0m\n",
            "\u001b[?25h"
          ]
        },
        {
          "output_type": "stream",
          "name": "stderr",
          "text": [
            "/usr/local/lib/python3.11/dist-packages/implicit/cpu/als.py:95: RuntimeWarning: OpenBLAS is configured to use 64 threads. It is highly recommended to disable its internal threadpool by setting the environment variable 'OPENBLAS_NUM_THREADS=1' or by calling 'threadpoolctl.threadpool_limits(1, \"blas\")'. Having OpenBLAS use a threadpool can lead to severe performance issues here.\n",
            "  check_blas_config()\n"
          ]
        }
      ],
      "source": [
        "# Install implicit\n",
        "!pip install -q implicit\n",
        "\n",
        "# Import\n",
        "import implicit\n",
        "import scipy.sparse as sp\n",
        "user2idx = {u:i for i,u in enumerate(train_r.index)}\n",
        "item2idx = {i:j for j,i in enumerate(train_r.columns)}\n",
        "\n",
        "rows, cols, vals = [], [], []\n",
        "for u, row in train_r.iterrows():\n",
        "    ui = user2idx[u]\n",
        "    for it, val in row.dropna().items():\n",
        "        rows.append(item2idx[it])\n",
        "        cols.append(ui)\n",
        "        vals.append(float(val))\n",
        "\n",
        "item_user_csr = sp.csr_matrix((vals, (rows, cols)), shape=(len(item2idx), len(user2idx)))\n",
        "\n",
        "als_model = implicit.als.AlternatingLeastSquares(\n",
        "    factors=64, regularization=0.01, iterations=20, random_state=RANDOM_STATE\n",
        ")\n",
        "als_model.fit(item_user_csr, show_progress=False)\n",
        "\n",
        "user_factors = als_model.user_factors\n",
        "item_factors = als_model.item_factors\n",
        "als_scores   = user_factors.dot(item_factors.T)\n",
        "\n",
        "expected_shape = (len(train_r.index), len(train_r.columns))\n",
        "\n",
        "# If it's transposed, flip it\n",
        "if als_scores.shape != expected_shape:\n",
        "    als_scores = als_scores.T\n",
        "\n",
        "als_df = pd.DataFrame(als_scores, index=train_r.index, columns=train_r.columns)\n",
        "als_df[~train_r.isna()] = -np.inf"
      ]
    },
    {
      "cell_type": "markdown",
      "id": "zAN_qbwYcYnD",
      "metadata": {
        "id": "zAN_qbwYcYnD"
      },
      "source": [
        "## 14. Final Hybrid Build (with NaN-safe fallback)"
      ]
    },
    {
      "cell_type": "markdown",
      "id": "ktQVmtcQOGfB",
      "metadata": {
        "id": "ktQVmtcQOGfB"
      },
      "source": [
        "## 14A. Hybrid Recommendation: Blending CF, ALS, Sentiment, and Popularity\n",
        "\n",
        "This section brings everything together — collaborative filtering, matrix factorization, sentiment scores, and product popularity — into a final hybrid recommendation score. The goal is to generate more robust, accurate, and fallback-safe recommendations by combining the strengths of different models.\n",
        "\n",
        " 1. Weight Initialization\n",
        "\n",
        "We check if best_params (weights for different models) is already defined.\n",
        "\n",
        "If not, we assign default values:\n",
        "\n",
        "alpha = 0.6 → Weight for collaborative filtering\n",
        "\n",
        "beta = 0.3 → Weight for sentiment score\n",
        "\n",
        "gamma = 0.1 → Weight for popularity\n",
        "\n",
        "These weights can be tuned later through grid search or manual optimization.\n",
        "\n",
        "2. Combine ALS and Collaborative Filtering\n",
        "\n",
        "The CF model now combines:\n",
        "\n",
        "cf_blend: A mix of user-based and item-based CF predictions.\n",
        "\n",
        "als_df: Matrix factorization predictions from the ALS model.\n",
        "\n",
        "Both contribute equally (0.5 each) to produce final_cf.\n",
        "\n",
        "3.  Initial Hybrid Score using CF\n",
        "\n",
        "We start with CF predictions as the primary recommender.\n",
        "\n",
        "The matrix hybrid_df stores weighted CF predictions per user-item pair.\n",
        "\n",
        "4. Fallback Strategy for Missing Predictions\n",
        "\n",
        "Some CF scores may be missing (cold-start products or users).\n",
        "\n",
        "We construct a fallback score using:\n",
        "\n",
        "Sentiment score (from product reviews)\n",
        "\n",
        "Popularity score (normalized frequency of purchases)\n",
        "\n",
        "Each item’s fallback score is a weighted blend of sentiment and popularity.\n",
        "\n",
        "This vector is repeated across all users to create a fallback matrix of the same shape as hybrid_df.\n",
        "\n",
        "Wherever the original CF score is NaN, it is replaced by the fallback value.\n",
        "\n",
        "5. Exclude Already Seen Items\n",
        "\n",
        "To ensure recommendations are novel, we set all previously seen (rated) items to -inf.\n",
        "\n",
        "This prevents the system from re-recommending products the user has already interacted with.\n",
        "\n",
        "Summary:\n",
        "\n",
        "This is a fully-fledged hybrid recommender system, intelligently blending:\n",
        "\n",
        "--> Memory-based CF (user & item)\n",
        "\n",
        "--> Model-based CF (ALS)\n",
        "\n",
        "--> Sentiment understanding from reviews\n",
        "\n",
        "--> Product popularity for cold-start safety\n",
        "\n",
        "All scores are carefully combined with fallback logic and masking, ready for top-N recommendation per user.\n",
        "\n"
      ]
    },
    {
      "cell_type": "code",
      "execution_count": 21,
      "id": "AcqNmSRccbqh",
      "metadata": {
        "id": "AcqNmSRccbqh"
      },
      "outputs": [],
      "source": [
        "if 'best_params' not in globals() or best_params is None or len(best_params)!=3:\n",
        "    best_params = (0.6, 0.3, 0.1)  # alpha(CF), beta(sentiment), gamma(pop)\n",
        "alpha, beta, gamma = best_params\n",
        "\n",
        "# Use ALS + CF blend for stronger signal\n",
        "final_cf = 0.5*cf_blend + 0.5*als_df\n",
        "\n",
        "hybrid_df = alpha * final_cf\n",
        "\n",
        "# Fallback vector for NaNs = beta*sent + gamma*pop\n",
        "fallback_vec = (\n",
        "    beta  * sentiment_score_df.reindex(final_cf.columns, fill_value=0)\n",
        "  + gamma * pop_df.iloc[0].reindex(final_cf.columns, fill_value=0)\n",
        ")\n",
        "fallback_matrix = pd.DataFrame(np.tile(fallback_vec.values,(hybrid_df.shape[0],1)),\n",
        "                               index=hybrid_df.index, columns=hybrid_df.columns)\n",
        "\n",
        "hybrid_df = hybrid_df.where(~hybrid_df.isna(), fallback_matrix)\n",
        "\n",
        "# Mask only seen items in train_r\n",
        "hybrid_df[~train_r.isna()] = -np.inf"
      ]
    },
    {
      "cell_type": "markdown",
      "id": "cc6efa10",
      "metadata": {
        "id": "cc6efa10"
      },
      "source": [
        "## 15. Recommend Top‑20 CF & Fine‑Tune Top‑5 by Sentiment"
      ]
    },
    {
      "cell_type": "markdown",
      "id": "2PDqHG0dPvHm",
      "metadata": {
        "id": "2PDqHG0dPvHm"
      },
      "source": [
        "## 15A. Final Product Recommendation with Sentiment-Aware Re-Ranking\n",
        "\n",
        "In this section, we define how to generate the top recommendations for a user based on our final hybrid matrix, and optionally re-rank them by predicted sentiment to boost user satisfaction. The aim is to deliver not just personalized, but also positively received products.\n",
        "\n",
        "1. Top-N Recommendation Functions\n",
        "\n",
        "recommend_top20: Retrieves the top n items with the highest hybrid recommendation scores for a given user u.\n",
        "\n",
        "recommend_top5: A shorthand that returns the top 5 recommendations.\n",
        "\n",
        "These are the core functions used for retrieving personalized results based on the full hybrid engine (CF + ALS + sentiment + popularity).\n",
        "\n",
        "2. Calculate % Positive Sentiment Per Item\n",
        "\n",
        "For each product, we gather all its review texts.\n",
        "\n",
        "We use the trained sentiment model to predict each review as positive or negative.\n",
        "\n",
        "We then compute the percentage of positive predictions, storing it as pos_pct.\n",
        "\n",
        "This gives a quantitative sentiment score per product — a signal of public approval.\n",
        "\n",
        "3. Sentiment-Aware Re-Ranking (Proof-of-Concept)\n",
        "\n",
        "For a selected sample_user, we retrieve their top-20 recommended products.\n",
        "\n",
        "We then re-rank these top-20 based on the percentage of positive sentiment.\n",
        "\n",
        "This allows us to prefer items that are not just personalized, but also highly rated by other users.\n",
        "\n",
        "We display the new top-5 based on the sentiment-aware ranking.\n",
        "\n",
        "This shows how personalization and satisfaction can be combined for more effective recommendations.\n",
        "\n",
        "Prints the original top-5 from the hybrid model (before sentiment reranking) for comparison.\n",
        "\n",
        "Summary:\n",
        "\n",
        "This final step closes the loop — moving from model outputs to a user-facing top-N recommendation list. By incorporating sentiment, we improve the emotional appeal and trustworthiness of the final suggestions."
      ]
    },
    {
      "cell_type": "code",
      "execution_count": 22,
      "id": "4fb1d20a",
      "metadata": {
        "colab": {
          "base_uri": "https://localhost:8080/",
          "height": 261
        },
        "id": "4fb1d20a",
        "outputId": "a6c2d135-3dc9-4ed7-a0e4-7dbc695463e7"
      },
      "outputs": [
        {
          "output_type": "display_data",
          "data": {
            "text/plain": [
              "                                                 name  positive_pct\n",
              "3                       Cars Toon: Mater's Tall Tales           1.0\n",
              "2                  Sopranos:Season 6 Part 1 (blu-Ray)           1.0\n",
              "5   Pleasant Hearth 7.5 Steel Grate, 30 5 Bar - Black           1.0\n",
              "4           Jolly Time Select Premium Yellow Pop Corn           1.0\n",
              "12               J.R. Watkins Hand Cream, Lemon Cream           1.0"
            ],
            "text/html": [
              "\n",
              "  <div id=\"df-bbbb525b-70d6-41ee-92d8-d1405357440c\" class=\"colab-df-container\">\n",
              "    <div>\n",
              "<style scoped>\n",
              "    .dataframe tbody tr th:only-of-type {\n",
              "        vertical-align: middle;\n",
              "    }\n",
              "\n",
              "    .dataframe tbody tr th {\n",
              "        vertical-align: top;\n",
              "    }\n",
              "\n",
              "    .dataframe thead th {\n",
              "        text-align: right;\n",
              "    }\n",
              "</style>\n",
              "<table border=\"1\" class=\"dataframe\">\n",
              "  <thead>\n",
              "    <tr style=\"text-align: right;\">\n",
              "      <th></th>\n",
              "      <th>name</th>\n",
              "      <th>positive_pct</th>\n",
              "    </tr>\n",
              "  </thead>\n",
              "  <tbody>\n",
              "    <tr>\n",
              "      <th>3</th>\n",
              "      <td>Cars Toon: Mater's Tall Tales</td>\n",
              "      <td>1.0</td>\n",
              "    </tr>\n",
              "    <tr>\n",
              "      <th>2</th>\n",
              "      <td>Sopranos:Season 6 Part 1 (blu-Ray)</td>\n",
              "      <td>1.0</td>\n",
              "    </tr>\n",
              "    <tr>\n",
              "      <th>5</th>\n",
              "      <td>Pleasant Hearth 7.5 Steel Grate, 30 5 Bar - Black</td>\n",
              "      <td>1.0</td>\n",
              "    </tr>\n",
              "    <tr>\n",
              "      <th>4</th>\n",
              "      <td>Jolly Time Select Premium Yellow Pop Corn</td>\n",
              "      <td>1.0</td>\n",
              "    </tr>\n",
              "    <tr>\n",
              "      <th>12</th>\n",
              "      <td>J.R. Watkins Hand Cream, Lemon Cream</td>\n",
              "      <td>1.0</td>\n",
              "    </tr>\n",
              "  </tbody>\n",
              "</table>\n",
              "</div>\n",
              "    <div class=\"colab-df-buttons\">\n",
              "\n",
              "  <div class=\"colab-df-container\">\n",
              "    <button class=\"colab-df-convert\" onclick=\"convertToInteractive('df-bbbb525b-70d6-41ee-92d8-d1405357440c')\"\n",
              "            title=\"Convert this dataframe to an interactive table.\"\n",
              "            style=\"display:none;\">\n",
              "\n",
              "  <svg xmlns=\"http://www.w3.org/2000/svg\" height=\"24px\" viewBox=\"0 -960 960 960\">\n",
              "    <path d=\"M120-120v-720h720v720H120Zm60-500h600v-160H180v160Zm220 220h160v-160H400v160Zm0 220h160v-160H400v160ZM180-400h160v-160H180v160Zm440 0h160v-160H620v160ZM180-180h160v-160H180v160Zm440 0h160v-160H620v160Z\"/>\n",
              "  </svg>\n",
              "    </button>\n",
              "\n",
              "  <style>\n",
              "    .colab-df-container {\n",
              "      display:flex;\n",
              "      gap: 12px;\n",
              "    }\n",
              "\n",
              "    .colab-df-convert {\n",
              "      background-color: #E8F0FE;\n",
              "      border: none;\n",
              "      border-radius: 50%;\n",
              "      cursor: pointer;\n",
              "      display: none;\n",
              "      fill: #1967D2;\n",
              "      height: 32px;\n",
              "      padding: 0 0 0 0;\n",
              "      width: 32px;\n",
              "    }\n",
              "\n",
              "    .colab-df-convert:hover {\n",
              "      background-color: #E2EBFA;\n",
              "      box-shadow: 0px 1px 2px rgba(60, 64, 67, 0.3), 0px 1px 3px 1px rgba(60, 64, 67, 0.15);\n",
              "      fill: #174EA6;\n",
              "    }\n",
              "\n",
              "    .colab-df-buttons div {\n",
              "      margin-bottom: 4px;\n",
              "    }\n",
              "\n",
              "    [theme=dark] .colab-df-convert {\n",
              "      background-color: #3B4455;\n",
              "      fill: #D2E3FC;\n",
              "    }\n",
              "\n",
              "    [theme=dark] .colab-df-convert:hover {\n",
              "      background-color: #434B5C;\n",
              "      box-shadow: 0px 1px 3px 1px rgba(0, 0, 0, 0.15);\n",
              "      filter: drop-shadow(0px 1px 2px rgba(0, 0, 0, 0.3));\n",
              "      fill: #FFFFFF;\n",
              "    }\n",
              "  </style>\n",
              "\n",
              "    <script>\n",
              "      const buttonEl =\n",
              "        document.querySelector('#df-bbbb525b-70d6-41ee-92d8-d1405357440c button.colab-df-convert');\n",
              "      buttonEl.style.display =\n",
              "        google.colab.kernel.accessAllowed ? 'block' : 'none';\n",
              "\n",
              "      async function convertToInteractive(key) {\n",
              "        const element = document.querySelector('#df-bbbb525b-70d6-41ee-92d8-d1405357440c');\n",
              "        const dataTable =\n",
              "          await google.colab.kernel.invokeFunction('convertToInteractive',\n",
              "                                                    [key], {});\n",
              "        if (!dataTable) return;\n",
              "\n",
              "        const docLinkHtml = 'Like what you see? Visit the ' +\n",
              "          '<a target=\"_blank\" href=https://colab.research.google.com/notebooks/data_table.ipynb>data table notebook</a>'\n",
              "          + ' to learn more about interactive tables.';\n",
              "        element.innerHTML = '';\n",
              "        dataTable['output_type'] = 'display_data';\n",
              "        await google.colab.output.renderOutput(dataTable, element);\n",
              "        const docLink = document.createElement('div');\n",
              "        docLink.innerHTML = docLinkHtml;\n",
              "        element.appendChild(docLink);\n",
              "      }\n",
              "    </script>\n",
              "  </div>\n",
              "\n",
              "\n",
              "    <div id=\"df-c9133251-60c1-4210-ba3a-69877e4f2187\">\n",
              "      <button class=\"colab-df-quickchart\" onclick=\"quickchart('df-c9133251-60c1-4210-ba3a-69877e4f2187')\"\n",
              "                title=\"Suggest charts\"\n",
              "                style=\"display:none;\">\n",
              "\n",
              "<svg xmlns=\"http://www.w3.org/2000/svg\" height=\"24px\"viewBox=\"0 0 24 24\"\n",
              "     width=\"24px\">\n",
              "    <g>\n",
              "        <path d=\"M19 3H5c-1.1 0-2 .9-2 2v14c0 1.1.9 2 2 2h14c1.1 0 2-.9 2-2V5c0-1.1-.9-2-2-2zM9 17H7v-7h2v7zm4 0h-2V7h2v10zm4 0h-2v-4h2v4z\"/>\n",
              "    </g>\n",
              "</svg>\n",
              "      </button>\n",
              "\n",
              "<style>\n",
              "  .colab-df-quickchart {\n",
              "      --bg-color: #E8F0FE;\n",
              "      --fill-color: #1967D2;\n",
              "      --hover-bg-color: #E2EBFA;\n",
              "      --hover-fill-color: #174EA6;\n",
              "      --disabled-fill-color: #AAA;\n",
              "      --disabled-bg-color: #DDD;\n",
              "  }\n",
              "\n",
              "  [theme=dark] .colab-df-quickchart {\n",
              "      --bg-color: #3B4455;\n",
              "      --fill-color: #D2E3FC;\n",
              "      --hover-bg-color: #434B5C;\n",
              "      --hover-fill-color: #FFFFFF;\n",
              "      --disabled-bg-color: #3B4455;\n",
              "      --disabled-fill-color: #666;\n",
              "  }\n",
              "\n",
              "  .colab-df-quickchart {\n",
              "    background-color: var(--bg-color);\n",
              "    border: none;\n",
              "    border-radius: 50%;\n",
              "    cursor: pointer;\n",
              "    display: none;\n",
              "    fill: var(--fill-color);\n",
              "    height: 32px;\n",
              "    padding: 0;\n",
              "    width: 32px;\n",
              "  }\n",
              "\n",
              "  .colab-df-quickchart:hover {\n",
              "    background-color: var(--hover-bg-color);\n",
              "    box-shadow: 0 1px 2px rgba(60, 64, 67, 0.3), 0 1px 3px 1px rgba(60, 64, 67, 0.15);\n",
              "    fill: var(--button-hover-fill-color);\n",
              "  }\n",
              "\n",
              "  .colab-df-quickchart-complete:disabled,\n",
              "  .colab-df-quickchart-complete:disabled:hover {\n",
              "    background-color: var(--disabled-bg-color);\n",
              "    fill: var(--disabled-fill-color);\n",
              "    box-shadow: none;\n",
              "  }\n",
              "\n",
              "  .colab-df-spinner {\n",
              "    border: 2px solid var(--fill-color);\n",
              "    border-color: transparent;\n",
              "    border-bottom-color: var(--fill-color);\n",
              "    animation:\n",
              "      spin 1s steps(1) infinite;\n",
              "  }\n",
              "\n",
              "  @keyframes spin {\n",
              "    0% {\n",
              "      border-color: transparent;\n",
              "      border-bottom-color: var(--fill-color);\n",
              "      border-left-color: var(--fill-color);\n",
              "    }\n",
              "    20% {\n",
              "      border-color: transparent;\n",
              "      border-left-color: var(--fill-color);\n",
              "      border-top-color: var(--fill-color);\n",
              "    }\n",
              "    30% {\n",
              "      border-color: transparent;\n",
              "      border-left-color: var(--fill-color);\n",
              "      border-top-color: var(--fill-color);\n",
              "      border-right-color: var(--fill-color);\n",
              "    }\n",
              "    40% {\n",
              "      border-color: transparent;\n",
              "      border-right-color: var(--fill-color);\n",
              "      border-top-color: var(--fill-color);\n",
              "    }\n",
              "    60% {\n",
              "      border-color: transparent;\n",
              "      border-right-color: var(--fill-color);\n",
              "    }\n",
              "    80% {\n",
              "      border-color: transparent;\n",
              "      border-right-color: var(--fill-color);\n",
              "      border-bottom-color: var(--fill-color);\n",
              "    }\n",
              "    90% {\n",
              "      border-color: transparent;\n",
              "      border-bottom-color: var(--fill-color);\n",
              "    }\n",
              "  }\n",
              "</style>\n",
              "\n",
              "      <script>\n",
              "        async function quickchart(key) {\n",
              "          const quickchartButtonEl =\n",
              "            document.querySelector('#' + key + ' button');\n",
              "          quickchartButtonEl.disabled = true;  // To prevent multiple clicks.\n",
              "          quickchartButtonEl.classList.add('colab-df-spinner');\n",
              "          try {\n",
              "            const charts = await google.colab.kernel.invokeFunction(\n",
              "                'suggestCharts', [key], {});\n",
              "          } catch (error) {\n",
              "            console.error('Error during call to suggestCharts:', error);\n",
              "          }\n",
              "          quickchartButtonEl.classList.remove('colab-df-spinner');\n",
              "          quickchartButtonEl.classList.add('colab-df-quickchart-complete');\n",
              "        }\n",
              "        (() => {\n",
              "          let quickchartButtonEl =\n",
              "            document.querySelector('#df-c9133251-60c1-4210-ba3a-69877e4f2187 button');\n",
              "          quickchartButtonEl.style.display =\n",
              "            google.colab.kernel.accessAllowed ? 'block' : 'none';\n",
              "        })();\n",
              "      </script>\n",
              "    </div>\n",
              "\n",
              "    </div>\n",
              "  </div>\n"
            ],
            "application/vnd.google.colaboratory.intrinsic+json": {
              "type": "dataframe",
              "summary": "{\n  \"name\": \"print('Sample top-5:', recommend_top5(train_r\",\n  \"rows\": 5,\n  \"fields\": [\n    {\n      \"column\": \"name\",\n      \"properties\": {\n        \"dtype\": \"string\",\n        \"num_unique_values\": 5,\n        \"samples\": [\n          \"Sopranos:Season 6 Part 1 (blu-Ray)\",\n          \"J.R. Watkins Hand Cream, Lemon Cream\",\n          \"Pleasant Hearth 7.5 Steel Grate, 30 5 Bar - Black\"\n        ],\n        \"semantic_type\": \"\",\n        \"description\": \"\"\n      }\n    },\n    {\n      \"column\": \"positive_pct\",\n      \"properties\": {\n        \"dtype\": \"number\",\n        \"std\": 0.0,\n        \"min\": 1.0,\n        \"max\": 1.0,\n        \"num_unique_values\": 1,\n        \"samples\": [\n          1.0\n        ],\n        \"semantic_type\": \"\",\n        \"description\": \"\"\n      }\n    }\n  ]\n}"
            }
          },
          "metadata": {}
        },
        {
          "output_type": "stream",
          "name": "stdout",
          "text": [
            "These are the final top-5 after re-ranking 20 CF candidates by highest % positive sentiment.\n",
            "Sample top-5: ['Clorox Disinfecting Wipes Value Pack Scented 150 Ct Total', 'Clorox Disinfecting Bathroom Cleaner', 'Sopranos:Season 6 Part 1 (blu-Ray)', \"Cars Toon: Mater's Tall Tales\", 'Jolly Time Select Premium Yellow Pop Corn']\n"
          ]
        }
      ],
      "source": [
        "def recommend_top20(u, n=20):\n",
        "    if u not in hybrid_df.index:\n",
        "        return []\n",
        "    row = hybrid_df.loc[u]\n",
        "    return list(row.nlargest(n).index)\n",
        "\n",
        "def recommend_top5(u):\n",
        "    return recommend_top20(u, 5)\n",
        "\n",
        "#Explicit % positive sentiment per product (re‑rank proof)\n",
        "# 1) Precompute % positive per item using our trained sentiment model\n",
        "pos_pct = {}\n",
        "for it in train_r.columns:\n",
        "    rows_it = df[df[product_col] == it][text_col].dropna().astype(str).tolist()\n",
        "    if not rows_it:\n",
        "        pos_pct[it] = 0.0\n",
        "        continue\n",
        "    Xv = vectorizer.transform([clean_text(t) for t in rows_it])\n",
        "    preds = best_sent_model.predict(Xv)\n",
        "    pos_pct[it] = preds.mean()  # proportion of positive predictions\n",
        "\n",
        "pos_pct_series = pd.Series(pos_pct, name=\"positive_pct\")\n",
        "\n",
        "# 2) Demonstrate re-ranking for a sample user\n",
        "sample_user = train_r.index[0]\n",
        "top20_list  = recommend_top20(sample_user, n=20)\n",
        "top20_df    = pd.DataFrame({\n",
        "    product_col: top20_list,\n",
        "    \"positive_pct\": pos_pct_series.loc[top20_list].values\n",
        "}).sort_values(\"positive_pct\", ascending=False)\n",
        "\n",
        "display(top20_df.head(5))\n",
        "print(\"These are the final top-5 after re-ranking 20 CF candidates by highest % positive sentiment.\")\n",
        "\n",
        "print('Sample top-5:', recommend_top5(train_r.index[0]))\n"
      ]
    },
    {
      "cell_type": "markdown",
      "id": "jEwAwT0Scyzd",
      "metadata": {
        "id": "jEwAwT0Scyzd"
      },
      "source": [
        "## 16. Build actual_map & Evaluate Precision@5"
      ]
    },
    {
      "cell_type": "markdown",
      "id": "_dHclj8NQwJR",
      "metadata": {
        "id": "_dHclj8NQwJR"
      },
      "source": [
        "## 16A.  Evaluation: Precision@5 on Held-Out Test Set\n",
        "\n",
        "This section measures how effective the final recommender system is by computing Precision@5 — a common metric in recommendation systems that checks how many of the top-5 recommended items were actually relevant (i.e., appeared in the test set).\n",
        "\n",
        "1. Create Actual User → Test Item Mapping\n",
        "\n",
        "We iterate through the held-out test interactions created earlier using the Leave-One-Out strategy.\n",
        "\n",
        "For each user, we collect the item they actually interacted with (i.e., rated), storing this in a dictionary.\n",
        "\n",
        "This mapping will act as the ground truth to evaluate recommendations.\n",
        "\n",
        "2. Compare Top-5 Recommendations to Actual Test Items\n",
        "\n",
        "For every user in our recommendation matrix:\n",
        "\n",
        "We generate their top-5 recommendations.\n",
        "\n",
        "We check how many of those 5 items actually appeared in the test set (actual_map[u]).\n",
        "\n",
        "This gives us a precision score per user.\n",
        "\n",
        "3. Final Precision@5 Score\n",
        "\n",
        "We compute the average Precision@5 across all users.\n",
        "\n",
        "This gives us a single-number performance indicator of how well our hybrid model recommends items that users are actually likely to engage with.\n",
        "\n",
        "Why This Matters:\n",
        "\n",
        "Precision@5 directly evaluates the practical quality of the system from a user perspective — did the system suggest useful items? It’s especially relevant for top-N recommendation tasks like personalized product suggestions.\n",
        "\n"
      ]
    },
    {
      "cell_type": "code",
      "execution_count": 23,
      "id": "plqVDaZAc07H",
      "metadata": {
        "colab": {
          "base_uri": "https://localhost:8080/"
        },
        "id": "plqVDaZAc07H",
        "outputId": "53052b59-417a-4675-c63d-7bca2322beef"
      },
      "outputs": [
        {
          "output_type": "stream",
          "name": "stdout",
          "text": [
            "Precision@5 (final): 0.097\n"
          ]
        }
      ],
      "source": [
        "actual_map = {}\n",
        "for _, r in test_i.iterrows():\n",
        "    uu, ii = r[user_col], r[product_col]\n",
        "    if pd.isna(uu) or pd.isna(ii):\n",
        "        continue\n",
        "    actual_map.setdefault(uu, set()).add(ii)\n",
        "\n",
        "precisions = []\n",
        "for u in hybrid_df.index:\n",
        "    if u not in actual_map:\n",
        "        continue\n",
        "    recs = set(recommend_top5(u))\n",
        "    hits = len(recs & actual_map[u])\n",
        "    precisions.append(hits/5.0)\n",
        "\n",
        "overall_prec5 = np.mean(precisions) if precisions else 0.0\n",
        "print(f'Precision@5 (final): {overall_prec5:.3f}')\n"
      ]
    },
    {
      "cell_type": "markdown",
      "id": "jF4bvhDLc4f4",
      "metadata": {
        "id": "jF4bvhDLc4f4"
      },
      "source": [
        "## 17. Export All Users' Top-5 to CSV"
      ]
    },
    {
      "cell_type": "markdown",
      "id": "y_EZZQYNRpmg",
      "metadata": {
        "id": "y_EZZQYNRpmg"
      },
      "source": [
        "## 17A. Final Output: Save Top-5 Recommendations for All Users\n",
        "\n",
        "This section prepares and saves the final output file that contains the top-5 personalized product recommendations for every user in the dataset.\n",
        "\n",
        "1. Generate Top-5 Recommendations per User\n",
        "\n",
        "For each user (u) in the original ratings matrix:\n",
        "\n",
        "We call recommend_top5(u) to get the best 5 items for that user based on the hybrid model.\n",
        "\n",
        "If the user has fewer than 5 recommended items (possible due to data sparsity), the list is padded with empty strings.\n",
        "\n",
        "The user's ID and their top-5 items are stored in a list of rows.\n",
        "\n",
        " 2. Create a DataFrame & Export to CSV\n",
        "\n",
        "A DataFrame is created with 6 columns:\n",
        "\n",
        "--> One for the user ID.\n",
        "\n",
        "--> Five for their recommended products (rec1 to rec5).\n",
        "\n",
        "The file is saved as a CSV under the specified OUTPUT_DIR, making it easy to review."
      ]
    },
    {
      "cell_type": "code",
      "execution_count": 24,
      "id": "FQ1l7nTAdHrf",
      "metadata": {
        "colab": {
          "base_uri": "https://localhost:8080/"
        },
        "id": "FQ1l7nTAdHrf",
        "outputId": "455fffb3-b769-404a-bd81-491dddff4237"
      },
      "outputs": [
        {
          "output_type": "stream",
          "name": "stdout",
          "text": [
            "Saved recommendations to: /content/drive/MyDrive/EPGP in ML and AI/OUTPUT/all_user_cf_top5.csv\n"
          ]
        }
      ],
      "source": [
        "rows = []\n",
        "for u in ratings.index:\n",
        "    recs = recommend_top5(u)\n",
        "    recs = recs + ['']*(5-len(recs))\n",
        "    rows.append([u] + recs[:5])\n",
        "\n",
        "best_recs_df = pd.DataFrame(rows, columns=[user_col,'rec1','rec2','rec3','rec4','rec5'])\n",
        "OUT_FILE = os.path.join(OUTPUT_DIR, 'all_user_cf_top5.csv')\n",
        "best_recs_df.to_csv(OUT_FILE, index=False)\n",
        "print('Saved recommendations to:', OUT_FILE)\n",
        "\n",
        "# Persist key DataFrames for app.py (if we want to actually run it later)\n",
        "with open('pickles/hybrid_df.pkl','wb') as f: pickle.dump(hybrid_df, f)\n",
        "with open('pickles/train_r.pkl','wb') as f: pickle.dump(train_r, f)"
      ]
    },
    {
      "cell_type": "markdown",
      "id": "_-XccyN01ncY",
      "metadata": {
        "id": "_-XccyN01ncY"
      },
      "source": [
        "## 18. Deployment Artifacts Evidence"
      ]
    },
    {
      "cell_type": "code",
      "execution_count": 25,
      "id": "yk55fGr61ka5",
      "metadata": {
        "colab": {
          "base_uri": "https://localhost:8080/"
        },
        "id": "yk55fGr61ka5",
        "outputId": "7d2da163-f37b-4b88-b1dc-5ec99512d4b3"
      },
      "outputs": [
        {
          "output_type": "stream",
          "name": "stdout",
          "text": [
            "Deployment files created: model.py, app.py, templates/index.html, templates/results.html\n",
            "Deployed these files to Render and link given below.\n"
          ]
        }
      ],
      "source": [
        "MODEL_PY = \"\"\"\\\n",
        "import pickle\n",
        "import pandas as pd\n",
        "\n",
        "# Load artifacts\n",
        "vectorizer = pickle.load(open('vectorizer.pkl','rb'))\n",
        "sentiment_model = pickle.load(open('sentiment_model.pkl','rb'))\n",
        "\n",
        "def predict_sentiment(texts):\n",
        "    from main_notebook import clean_text  # or re-define clean_text here\n",
        "    X = vectorizer.transform([clean_text(t) for t in texts])\n",
        "    return sentiment_model.predict(X)\n",
        "\"\"\"\n",
        "\n",
        "APP_PY = \"\"\"\\\n",
        "from flask import Flask, request, render_template\n",
        "import pickle, pandas as pd\n",
        "\n",
        "# Load recommendation data\n",
        "hybrid_df = pickle.load(open('hybrid_df.pkl','rb'))\n",
        "train_r    = pickle.load(open('train_r.pkl','rb'))\n",
        "\n",
        "def recommend_top5(u):\n",
        "    if u not in hybrid_df.index:\n",
        "        return []\n",
        "    return list(hybrid_df.loc[u].nlargest(5).index)\n",
        "\n",
        "app = Flask(__name__)\n",
        "\n",
        "@app.route('/', methods=['GET','POST'])\n",
        "def home():\n",
        "    if request.method=='POST':\n",
        "        user = request.form['username']\n",
        "        recs = recommend_top5(user)\n",
        "        return render_template('results.html', username=user, recommendations=recs)\n",
        "    return render_template('index.html')\n",
        "\n",
        "if __name__ == '__main__':\n",
        "    app.run()\n",
        "\"\"\"\n",
        "\n",
        "INDEX_HTML = \"\"\"\\\n",
        "<!doctype html>\n",
        "<html>\n",
        "  <head><title>Recommender</title></head>\n",
        "  <body>\n",
        "    <form method=\"post\">\n",
        "      <input name=\"username\" placeholder=\"Enter user id\"/>\n",
        "      <button type=\"submit\">Get Recommendations</button>\n",
        "    </form>\n",
        "    {% if recommendations %}\n",
        "      <h3>Top 5 recommendations for {{ username }}</h3>\n",
        "      <ul>\n",
        "        {% for r in recommendations %}\n",
        "          <li>{{ r }}</li>\n",
        "        {% endfor %}\n",
        "      </ul>\n",
        "    {% endif %}\n",
        "  </body>\n",
        "</html>\n",
        "\"\"\"\n",
        "\n",
        "RESULTS_HTML = \"\"\"\\\n",
        "<!doctype html>\n",
        "<html>\n",
        "  <head><title>Results</title></head>\n",
        "  <body>\n",
        "    <h3>Top 5 recommendations for {{ username }}</h3>\n",
        "    <ul>\n",
        "      {% for r in recommendations %}\n",
        "        <li>{{ r }}</li>\n",
        "      {% endfor %}\n",
        "    </ul>\n",
        "    <a href=\"/\">Back</a>\n",
        "  </body>\n",
        "</html>\n",
        "\"\"\"\n",
        "\n",
        "with open('model.py','w') as f: f.write(MODEL_PY)\n",
        "with open('app.py','w') as f: f.write(APP_PY)\n",
        "os.makedirs('templates', exist_ok=True)\n",
        "with open('templates/index.html','w') as f: f.write(INDEX_HTML)\n",
        "with open('templates/results.html','w') as f: f.write(RESULTS_HTML)\n",
        "\n",
        "print(\"Deployment files created: model.py, app.py, templates/index.html, templates/results.html\")\n",
        "print(\"Deployed these files to Render and link given below.\")"
      ]
    },
    {
      "cell_type": "markdown",
      "id": "e9880880",
      "metadata": {
        "id": "e9880880"
      },
      "source": [
        "## 19. Flask App Demonstration\n"
      ]
    },
    {
      "cell_type": "markdown",
      "id": "SbaB9s-rvAQ0",
      "metadata": {
        "id": "SbaB9s-rvAQ0"
      },
      "source": [
        "Finally, we wire everything together in a Flask web server: rendering an input form, accepting a username, calling recommend_top5(), and displaying the results in index.html."
      ]
    },
    {
      "cell_type": "code",
      "execution_count": 26,
      "id": "qcEEpEfyytW7",
      "metadata": {
        "colab": {
          "base_uri": "https://localhost:8080/"
        },
        "id": "qcEEpEfyytW7",
        "outputId": "a7597930-f284-43f6-8f03-3a92268316d7"
      },
      "outputs": [
        {
          "output_type": "stream",
          "name": "stdout",
          "text": [
            " * Serving Flask app '__main__'\n",
            " * Debug mode: on\n"
          ]
        },
        {
          "output_type": "stream",
          "name": "stderr",
          "text": [
            "INFO:werkzeug:\u001b[31m\u001b[1mWARNING: This is a development server. Do not use it in a production deployment. Use a production WSGI server instead.\u001b[0m\n",
            " * Running on all addresses (0.0.0.0)\n",
            " * Running on http://127.0.0.1:5000\n",
            " * Running on http://172.28.0.12:5000\n",
            "INFO:werkzeug:\u001b[33mPress CTRL+C to quit\u001b[0m\n",
            "INFO:werkzeug: * Restarting with stat\n"
          ]
        }
      ],
      "source": [
        "app = Flask(__name__)\n",
        "\n",
        "@app.route('/', methods=['GET','POST'])\n",
        "def home():\n",
        "    if request.method == 'POST':\n",
        "        user = request.form.get('username')\n",
        "        recs = recommend_top5(user)\n",
        "        return {'user': user, 'recommendations': recs}\n",
        "    return '''<form method=\"post\">User: <input name=\"username\"/><input type=\"submit\"/></form>'''\n",
        "\n",
        "if __name__=='__main__':\n",
        "    app.run(host='0.0.0.0', port=5000, debug=True)"
      ]
    },
    {
      "cell_type": "markdown",
      "id": "4245f4b7",
      "metadata": {
        "id": "4245f4b7"
      },
      "source": [
        "## 20. Deployment Link\n",
        "\n",
        "Our app is live at: https://ebuss-sentiment-based-product-5eus.onrender.com/\n",
        "\n",
        "\n",
        "Artifacts: `model.py`, `app.py`, `index.html`, `results.html`, `vectorizer.pkl`, `sentiment_model.pkl`, `hybrid_df.pkl`, `train_r.pkl`"
      ]
    },
    {
      "cell_type": "code",
      "execution_count": null,
      "id": "6cpD8lHjqYZ_",
      "metadata": {
        "id": "6cpD8lHjqYZ_"
      },
      "outputs": [],
      "source": []
    }
  ],
  "metadata": {
    "accelerator": "TPU",
    "colab": {
      "gpuType": "V28",
      "machine_shape": "hm",
      "provenance": []
    },
    "kernelspec": {
      "display_name": "Python 3",
      "name": "python3"
    },
    "language_info": {
      "name": "python"
    }
  },
  "nbformat": 4,
  "nbformat_minor": 5
}